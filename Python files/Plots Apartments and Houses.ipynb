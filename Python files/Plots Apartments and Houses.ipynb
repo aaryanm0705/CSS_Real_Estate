{
 "cells": [
  {
   "cell_type": "markdown",
   "metadata": {},
   "source": [
    "# Packages"
   ]
  },
  {
   "cell_type": "code",
   "execution_count": 3,
   "metadata": {},
   "outputs": [],
   "source": [
    "import pandas as pd\n",
    "import matplotlib.pyplot as plt\n",
    "from collections import Counter\n",
    "import seaborn as sns\n",
    "from sklearn.model_selection import train_test_split\n",
    "from sklearn.ensemble import RandomForestRegressor\n",
    "import numpy as np\n",
    "import plotly.express as px"
   ]
  },
  {
   "cell_type": "markdown",
   "metadata": {},
   "source": [
    "## Data Set"
   ]
  },
  {
   "cell_type": "code",
   "execution_count": 4,
   "metadata": {},
   "outputs": [
    {
     "ename": "FileNotFoundError",
     "evalue": "[Errno 2] No such file or directory: 'apartments_no_outliers_concatenated.xlsx'",
     "output_type": "error",
     "traceback": [
      "\u001b[1;31m---------------------------------------------------------------------------\u001b[0m",
      "\u001b[1;31mFileNotFoundError\u001b[0m                         Traceback (most recent call last)",
      "\u001b[1;32m<ipython-input-4-7389b0d3db4a>\u001b[0m in \u001b[0;36m<module>\u001b[1;34m\u001b[0m\n\u001b[1;32m----> 1\u001b[1;33m \u001b[0mdata_apartments\u001b[0m \u001b[1;33m=\u001b[0m \u001b[0mpd\u001b[0m\u001b[1;33m.\u001b[0m\u001b[0mread_excel\u001b[0m\u001b[1;33m(\u001b[0m\u001b[1;34m'apartments_no_outliers_concatenated.xlsx'\u001b[0m\u001b[1;33m,\u001b[0m \u001b[0mengine\u001b[0m\u001b[1;33m=\u001b[0m\u001b[1;34m'openpyxl'\u001b[0m\u001b[1;33m,\u001b[0m \u001b[0mdtype\u001b[0m\u001b[1;33m=\u001b[0m\u001b[1;33m{\u001b[0m\u001b[1;34m'Zip Code'\u001b[0m\u001b[1;33m:\u001b[0m \u001b[0mstr\u001b[0m\u001b[1;33m}\u001b[0m\u001b[1;33m)\u001b[0m\u001b[1;33m\u001b[0m\u001b[1;33m\u001b[0m\u001b[0m\n\u001b[0m\u001b[0;32m      2\u001b[0m \u001b[0mdata_houses\u001b[0m \u001b[1;33m=\u001b[0m \u001b[0mpd\u001b[0m\u001b[1;33m.\u001b[0m\u001b[0mread_excel\u001b[0m\u001b[1;33m(\u001b[0m\u001b[1;34m'houses_no_outliers_concatenated.xlsx'\u001b[0m\u001b[1;33m,\u001b[0m \u001b[0mengine\u001b[0m\u001b[1;33m=\u001b[0m\u001b[1;34m'openpyxl'\u001b[0m\u001b[1;33m,\u001b[0m \u001b[0mdtype\u001b[0m\u001b[1;33m=\u001b[0m\u001b[1;33m{\u001b[0m\u001b[1;34m'Zip Code'\u001b[0m\u001b[1;33m:\u001b[0m \u001b[0mstr\u001b[0m\u001b[1;33m}\u001b[0m\u001b[1;33m)\u001b[0m\u001b[1;33m\u001b[0m\u001b[1;33m\u001b[0m\u001b[0m\n",
      "\u001b[1;32mC:\\ProgramData\\Anaconda3\\lib\\site-packages\\pandas\\io\\excel\\_base.py\u001b[0m in \u001b[0;36mread_excel\u001b[1;34m(io, sheet_name, header, names, index_col, usecols, squeeze, dtype, engine, converters, true_values, false_values, skiprows, nrows, na_values, keep_default_na, verbose, parse_dates, date_parser, thousands, comment, skipfooter, convert_float, mangle_dupe_cols, **kwds)\u001b[0m\n\u001b[0;32m    302\u001b[0m \u001b[1;33m\u001b[0m\u001b[0m\n\u001b[0;32m    303\u001b[0m     \u001b[1;32mif\u001b[0m \u001b[1;32mnot\u001b[0m \u001b[0misinstance\u001b[0m\u001b[1;33m(\u001b[0m\u001b[0mio\u001b[0m\u001b[1;33m,\u001b[0m \u001b[0mExcelFile\u001b[0m\u001b[1;33m)\u001b[0m\u001b[1;33m:\u001b[0m\u001b[1;33m\u001b[0m\u001b[1;33m\u001b[0m\u001b[0m\n\u001b[1;32m--> 304\u001b[1;33m         \u001b[0mio\u001b[0m \u001b[1;33m=\u001b[0m \u001b[0mExcelFile\u001b[0m\u001b[1;33m(\u001b[0m\u001b[0mio\u001b[0m\u001b[1;33m,\u001b[0m \u001b[0mengine\u001b[0m\u001b[1;33m=\u001b[0m\u001b[0mengine\u001b[0m\u001b[1;33m)\u001b[0m\u001b[1;33m\u001b[0m\u001b[1;33m\u001b[0m\u001b[0m\n\u001b[0m\u001b[0;32m    305\u001b[0m     \u001b[1;32melif\u001b[0m \u001b[0mengine\u001b[0m \u001b[1;32mand\u001b[0m \u001b[0mengine\u001b[0m \u001b[1;33m!=\u001b[0m \u001b[0mio\u001b[0m\u001b[1;33m.\u001b[0m\u001b[0mengine\u001b[0m\u001b[1;33m:\u001b[0m\u001b[1;33m\u001b[0m\u001b[1;33m\u001b[0m\u001b[0m\n\u001b[0;32m    306\u001b[0m         raise ValueError(\n",
      "\u001b[1;32mC:\\ProgramData\\Anaconda3\\lib\\site-packages\\pandas\\io\\excel\\_base.py\u001b[0m in \u001b[0;36m__init__\u001b[1;34m(self, io, engine)\u001b[0m\n\u001b[0;32m    819\u001b[0m         \u001b[0mself\u001b[0m\u001b[1;33m.\u001b[0m\u001b[0m_io\u001b[0m \u001b[1;33m=\u001b[0m \u001b[0mstringify_path\u001b[0m\u001b[1;33m(\u001b[0m\u001b[0mio\u001b[0m\u001b[1;33m)\u001b[0m\u001b[1;33m\u001b[0m\u001b[1;33m\u001b[0m\u001b[0m\n\u001b[0;32m    820\u001b[0m \u001b[1;33m\u001b[0m\u001b[0m\n\u001b[1;32m--> 821\u001b[1;33m         \u001b[0mself\u001b[0m\u001b[1;33m.\u001b[0m\u001b[0m_reader\u001b[0m \u001b[1;33m=\u001b[0m \u001b[0mself\u001b[0m\u001b[1;33m.\u001b[0m\u001b[0m_engines\u001b[0m\u001b[1;33m[\u001b[0m\u001b[0mengine\u001b[0m\u001b[1;33m]\u001b[0m\u001b[1;33m(\u001b[0m\u001b[0mself\u001b[0m\u001b[1;33m.\u001b[0m\u001b[0m_io\u001b[0m\u001b[1;33m)\u001b[0m\u001b[1;33m\u001b[0m\u001b[1;33m\u001b[0m\u001b[0m\n\u001b[0m\u001b[0;32m    822\u001b[0m \u001b[1;33m\u001b[0m\u001b[0m\n\u001b[0;32m    823\u001b[0m     \u001b[1;32mdef\u001b[0m \u001b[0m__fspath__\u001b[0m\u001b[1;33m(\u001b[0m\u001b[0mself\u001b[0m\u001b[1;33m)\u001b[0m\u001b[1;33m:\u001b[0m\u001b[1;33m\u001b[0m\u001b[1;33m\u001b[0m\u001b[0m\n",
      "\u001b[1;32mC:\\ProgramData\\Anaconda3\\lib\\site-packages\\pandas\\io\\excel\\_openpyxl.py\u001b[0m in \u001b[0;36m__init__\u001b[1;34m(self, filepath_or_buffer)\u001b[0m\n\u001b[0;32m    483\u001b[0m         \"\"\"\n\u001b[0;32m    484\u001b[0m         \u001b[0mimport_optional_dependency\u001b[0m\u001b[1;33m(\u001b[0m\u001b[1;34m\"openpyxl\"\u001b[0m\u001b[1;33m)\u001b[0m\u001b[1;33m\u001b[0m\u001b[1;33m\u001b[0m\u001b[0m\n\u001b[1;32m--> 485\u001b[1;33m         \u001b[0msuper\u001b[0m\u001b[1;33m(\u001b[0m\u001b[1;33m)\u001b[0m\u001b[1;33m.\u001b[0m\u001b[0m__init__\u001b[0m\u001b[1;33m(\u001b[0m\u001b[0mfilepath_or_buffer\u001b[0m\u001b[1;33m)\u001b[0m\u001b[1;33m\u001b[0m\u001b[1;33m\u001b[0m\u001b[0m\n\u001b[0m\u001b[0;32m    486\u001b[0m \u001b[1;33m\u001b[0m\u001b[0m\n\u001b[0;32m    487\u001b[0m     \u001b[1;33m@\u001b[0m\u001b[0mproperty\u001b[0m\u001b[1;33m\u001b[0m\u001b[1;33m\u001b[0m\u001b[0m\n",
      "\u001b[1;32mC:\\ProgramData\\Anaconda3\\lib\\site-packages\\pandas\\io\\excel\\_base.py\u001b[0m in \u001b[0;36m__init__\u001b[1;34m(self, filepath_or_buffer)\u001b[0m\n\u001b[0;32m    351\u001b[0m             \u001b[0mself\u001b[0m\u001b[1;33m.\u001b[0m\u001b[0mbook\u001b[0m \u001b[1;33m=\u001b[0m \u001b[0mself\u001b[0m\u001b[1;33m.\u001b[0m\u001b[0mload_workbook\u001b[0m\u001b[1;33m(\u001b[0m\u001b[0mfilepath_or_buffer\u001b[0m\u001b[1;33m)\u001b[0m\u001b[1;33m\u001b[0m\u001b[1;33m\u001b[0m\u001b[0m\n\u001b[0;32m    352\u001b[0m         \u001b[1;32melif\u001b[0m \u001b[0misinstance\u001b[0m\u001b[1;33m(\u001b[0m\u001b[0mfilepath_or_buffer\u001b[0m\u001b[1;33m,\u001b[0m \u001b[0mstr\u001b[0m\u001b[1;33m)\u001b[0m\u001b[1;33m:\u001b[0m\u001b[1;33m\u001b[0m\u001b[1;33m\u001b[0m\u001b[0m\n\u001b[1;32m--> 353\u001b[1;33m             \u001b[0mself\u001b[0m\u001b[1;33m.\u001b[0m\u001b[0mbook\u001b[0m \u001b[1;33m=\u001b[0m \u001b[0mself\u001b[0m\u001b[1;33m.\u001b[0m\u001b[0mload_workbook\u001b[0m\u001b[1;33m(\u001b[0m\u001b[0mfilepath_or_buffer\u001b[0m\u001b[1;33m)\u001b[0m\u001b[1;33m\u001b[0m\u001b[1;33m\u001b[0m\u001b[0m\n\u001b[0m\u001b[0;32m    354\u001b[0m         \u001b[1;32melif\u001b[0m \u001b[0misinstance\u001b[0m\u001b[1;33m(\u001b[0m\u001b[0mfilepath_or_buffer\u001b[0m\u001b[1;33m,\u001b[0m \u001b[0mbytes\u001b[0m\u001b[1;33m)\u001b[0m\u001b[1;33m:\u001b[0m\u001b[1;33m\u001b[0m\u001b[1;33m\u001b[0m\u001b[0m\n\u001b[0;32m    355\u001b[0m             \u001b[0mself\u001b[0m\u001b[1;33m.\u001b[0m\u001b[0mbook\u001b[0m \u001b[1;33m=\u001b[0m \u001b[0mself\u001b[0m\u001b[1;33m.\u001b[0m\u001b[0mload_workbook\u001b[0m\u001b[1;33m(\u001b[0m\u001b[0mBytesIO\u001b[0m\u001b[1;33m(\u001b[0m\u001b[0mfilepath_or_buffer\u001b[0m\u001b[1;33m)\u001b[0m\u001b[1;33m)\u001b[0m\u001b[1;33m\u001b[0m\u001b[1;33m\u001b[0m\u001b[0m\n",
      "\u001b[1;32mC:\\ProgramData\\Anaconda3\\lib\\site-packages\\pandas\\io\\excel\\_openpyxl.py\u001b[0m in \u001b[0;36mload_workbook\u001b[1;34m(self, filepath_or_buffer)\u001b[0m\n\u001b[0;32m    495\u001b[0m \u001b[1;33m\u001b[0m\u001b[0m\n\u001b[0;32m    496\u001b[0m         return load_workbook(\n\u001b[1;32m--> 497\u001b[1;33m             \u001b[0mfilepath_or_buffer\u001b[0m\u001b[1;33m,\u001b[0m \u001b[0mread_only\u001b[0m\u001b[1;33m=\u001b[0m\u001b[1;32mTrue\u001b[0m\u001b[1;33m,\u001b[0m \u001b[0mdata_only\u001b[0m\u001b[1;33m=\u001b[0m\u001b[1;32mTrue\u001b[0m\u001b[1;33m,\u001b[0m \u001b[0mkeep_links\u001b[0m\u001b[1;33m=\u001b[0m\u001b[1;32mFalse\u001b[0m\u001b[1;33m\u001b[0m\u001b[1;33m\u001b[0m\u001b[0m\n\u001b[0m\u001b[0;32m    498\u001b[0m         )\n\u001b[0;32m    499\u001b[0m \u001b[1;33m\u001b[0m\u001b[0m\n",
      "\u001b[1;32mC:\\ProgramData\\Anaconda3\\lib\\site-packages\\openpyxl\\reader\\excel.py\u001b[0m in \u001b[0;36mload_workbook\u001b[1;34m(filename, read_only, keep_vba, data_only, keep_links)\u001b[0m\n\u001b[0;32m    311\u001b[0m     \"\"\"\n\u001b[0;32m    312\u001b[0m     reader = ExcelReader(filename, read_only, keep_vba,\n\u001b[1;32m--> 313\u001b[1;33m                         data_only, keep_links)\n\u001b[0m\u001b[0;32m    314\u001b[0m     \u001b[0mreader\u001b[0m\u001b[1;33m.\u001b[0m\u001b[0mread\u001b[0m\u001b[1;33m(\u001b[0m\u001b[1;33m)\u001b[0m\u001b[1;33m\u001b[0m\u001b[1;33m\u001b[0m\u001b[0m\n\u001b[0;32m    315\u001b[0m     \u001b[1;32mreturn\u001b[0m \u001b[0mreader\u001b[0m\u001b[1;33m.\u001b[0m\u001b[0mwb\u001b[0m\u001b[1;33m\u001b[0m\u001b[1;33m\u001b[0m\u001b[0m\n",
      "\u001b[1;32mC:\\ProgramData\\Anaconda3\\lib\\site-packages\\openpyxl\\reader\\excel.py\u001b[0m in \u001b[0;36m__init__\u001b[1;34m(self, fn, read_only, keep_vba, data_only, keep_links)\u001b[0m\n\u001b[0;32m    122\u001b[0m     def __init__(self,  fn, read_only=False, keep_vba=KEEP_VBA,\n\u001b[0;32m    123\u001b[0m                   data_only=False, keep_links=True):\n\u001b[1;32m--> 124\u001b[1;33m         \u001b[0mself\u001b[0m\u001b[1;33m.\u001b[0m\u001b[0marchive\u001b[0m \u001b[1;33m=\u001b[0m \u001b[0m_validate_archive\u001b[0m\u001b[1;33m(\u001b[0m\u001b[0mfn\u001b[0m\u001b[1;33m)\u001b[0m\u001b[1;33m\u001b[0m\u001b[1;33m\u001b[0m\u001b[0m\n\u001b[0m\u001b[0;32m    125\u001b[0m         \u001b[0mself\u001b[0m\u001b[1;33m.\u001b[0m\u001b[0mvalid_files\u001b[0m \u001b[1;33m=\u001b[0m \u001b[0mself\u001b[0m\u001b[1;33m.\u001b[0m\u001b[0marchive\u001b[0m\u001b[1;33m.\u001b[0m\u001b[0mnamelist\u001b[0m\u001b[1;33m(\u001b[0m\u001b[1;33m)\u001b[0m\u001b[1;33m\u001b[0m\u001b[1;33m\u001b[0m\u001b[0m\n\u001b[0;32m    126\u001b[0m         \u001b[0mself\u001b[0m\u001b[1;33m.\u001b[0m\u001b[0mread_only\u001b[0m \u001b[1;33m=\u001b[0m \u001b[0mread_only\u001b[0m\u001b[1;33m\u001b[0m\u001b[1;33m\u001b[0m\u001b[0m\n",
      "\u001b[1;32mC:\\ProgramData\\Anaconda3\\lib\\site-packages\\openpyxl\\reader\\excel.py\u001b[0m in \u001b[0;36m_validate_archive\u001b[1;34m(filename)\u001b[0m\n\u001b[0;32m     94\u001b[0m             \u001b[1;32mraise\u001b[0m \u001b[0mInvalidFileException\u001b[0m\u001b[1;33m(\u001b[0m\u001b[0mmsg\u001b[0m\u001b[1;33m)\u001b[0m\u001b[1;33m\u001b[0m\u001b[1;33m\u001b[0m\u001b[0m\n\u001b[0;32m     95\u001b[0m \u001b[1;33m\u001b[0m\u001b[0m\n\u001b[1;32m---> 96\u001b[1;33m     \u001b[0marchive\u001b[0m \u001b[1;33m=\u001b[0m \u001b[0mZipFile\u001b[0m\u001b[1;33m(\u001b[0m\u001b[0mfilename\u001b[0m\u001b[1;33m,\u001b[0m \u001b[1;34m'r'\u001b[0m\u001b[1;33m)\u001b[0m\u001b[1;33m\u001b[0m\u001b[1;33m\u001b[0m\u001b[0m\n\u001b[0m\u001b[0;32m     97\u001b[0m     \u001b[1;32mreturn\u001b[0m \u001b[0marchive\u001b[0m\u001b[1;33m\u001b[0m\u001b[1;33m\u001b[0m\u001b[0m\n\u001b[0;32m     98\u001b[0m \u001b[1;33m\u001b[0m\u001b[0m\n",
      "\u001b[1;32mC:\\ProgramData\\Anaconda3\\lib\\zipfile.py\u001b[0m in \u001b[0;36m__init__\u001b[1;34m(self, file, mode, compression, allowZip64, compresslevel)\u001b[0m\n\u001b[0;32m   1238\u001b[0m             \u001b[1;32mwhile\u001b[0m \u001b[1;32mTrue\u001b[0m\u001b[1;33m:\u001b[0m\u001b[1;33m\u001b[0m\u001b[1;33m\u001b[0m\u001b[0m\n\u001b[0;32m   1239\u001b[0m                 \u001b[1;32mtry\u001b[0m\u001b[1;33m:\u001b[0m\u001b[1;33m\u001b[0m\u001b[1;33m\u001b[0m\u001b[0m\n\u001b[1;32m-> 1240\u001b[1;33m                     \u001b[0mself\u001b[0m\u001b[1;33m.\u001b[0m\u001b[0mfp\u001b[0m \u001b[1;33m=\u001b[0m \u001b[0mio\u001b[0m\u001b[1;33m.\u001b[0m\u001b[0mopen\u001b[0m\u001b[1;33m(\u001b[0m\u001b[0mfile\u001b[0m\u001b[1;33m,\u001b[0m \u001b[0mfilemode\u001b[0m\u001b[1;33m)\u001b[0m\u001b[1;33m\u001b[0m\u001b[1;33m\u001b[0m\u001b[0m\n\u001b[0m\u001b[0;32m   1241\u001b[0m                 \u001b[1;32mexcept\u001b[0m \u001b[0mOSError\u001b[0m\u001b[1;33m:\u001b[0m\u001b[1;33m\u001b[0m\u001b[1;33m\u001b[0m\u001b[0m\n\u001b[0;32m   1242\u001b[0m                     \u001b[1;32mif\u001b[0m \u001b[0mfilemode\u001b[0m \u001b[1;32min\u001b[0m \u001b[0mmodeDict\u001b[0m\u001b[1;33m:\u001b[0m\u001b[1;33m\u001b[0m\u001b[1;33m\u001b[0m\u001b[0m\n",
      "\u001b[1;31mFileNotFoundError\u001b[0m: [Errno 2] No such file or directory: 'apartments_no_outliers_concatenated.xlsx'"
     ]
    }
   ],
   "source": [
    "data_apartments = pd.read_excel(C:\\Users\\malla\\Desktop\\Real Estate Project\\Data', engine='openpyxl', dtype={'Zip Code': str})\n",
    "data_houses = pd.read_excel('houses_no_outliers_concatenated.xlsx', engine='openpyxl', dtype={'Zip Code': str})"
   ]
  },
  {
   "cell_type": "code",
   "execution_count": null,
   "metadata": {},
   "outputs": [],
   "source": [
    "apartments_ratings = pd.read_excel('apartments_immonet_no_outliers.xlsx')\n",
    "apartments_ratings.drop('Link', axis=1, inplace=True)\n",
    "houses_ratings = pd.read_excel('houses_immonet_no_outliers.xlsx')\n",
    "houses_ratings.drop('Link', axis=1, inplace=True)\n",
    "houses_ratings.drop('House Type', axis=1, inplace=True)\n",
    "\n",
    "apartments_ratings[apartments_ratings.columns[apartments_ratings.isna().any()]] = apartments_ratings[apartments_ratings.columns[apartments_ratings.isna().any()]].fillna(apartments_ratings.median())\n",
    "\n",
    "houses_ratings[houses_ratings.columns[houses_ratings.isna().any()]] = houses_ratings[houses_ratings.columns[houses_ratings.isna().any()]].fillna(houses_ratings.median())\n"
   ]
  },
  {
   "cell_type": "code",
   "execution_count": null,
   "metadata": {},
   "outputs": [],
   "source": [
    "data_apartments1 = data_apartments[['Latitude','Longitude','Price']]\n",
    "data_houses1 = data_houses[['Latitude','Longitude','Price']]"
   ]
  },
  {
   "cell_type": "markdown",
   "metadata": {},
   "source": [
    "## Visualisations"
   ]
  },
  {
   "cell_type": "code",
   "execution_count": null,
   "metadata": {},
   "outputs": [],
   "source": [
    "interior_sizes1 = data_apartments['Interior Size']\n",
    "prices1 = data_apartments['Price']\n",
    "\n",
    "interior_sizes2 = data_houses['Interior Size']\n",
    "exterior_sizes2 = data_houses['Exterior Size']\n",
    "\n",
    "prices2 = data_houses['Price']"
   ]
  },
  {
   "cell_type": "code",
   "execution_count": null,
   "metadata": {
    "scrolled": false
   },
   "outputs": [],
   "source": [
    "# Apartments\n",
    "plt.scatter(interior_sizes1, prices1, c='green', marker='o', label='Price vs. Interior Square Meters', alpha=0.1)\n",
    "plt.xlabel('Interior Square Metre (sq.m)')\n",
    "plt.ylabel('Price (€))')\n",
    "plt.title('Price vs. Square Metre Scatter Plot')\n",
    "\n",
    "plt.xlim(0, 250) \n",
    "plt.ylim(0, 3500)"
   ]
  },
  {
   "cell_type": "code",
   "execution_count": null,
   "metadata": {},
   "outputs": [],
   "source": [
    "# Houses\n",
    "plt.scatter(interior_sizes2, prices2, c='green', marker='o', label='Price vs. Interior Square Meters', alpha=0.1)\n",
    "plt.xlabel('Interior Square Metre (sq.m)')\n",
    "plt.ylabel('Price (€))')\n",
    "plt.title('Price vs. Square Metre Scatter Plot')\n",
    "\n",
    "plt.xlim(0, 250) \n",
    "plt.ylim(0, 3500)"
   ]
  },
  {
   "cell_type": "code",
   "execution_count": null,
   "metadata": {},
   "outputs": [],
   "source": [
    "# Apartments Correlation Heatmap\n",
    "import seaborn as sns\n",
    "import matplotlib.pyplot as plt\n",
    "import numpy as np\n",
    "\n",
    "numerical_data = data_apartments[['Price', 'Zip Code', 'Floor Level', 'Room Count', 'Interior Size', 'Elevator','Storage','Balcony']]\n",
    "\n",
    "correlation_matrix = numerical_data.corr()\n",
    "\n",
    "mask = np.tril(np.ones_like(correlation_matrix, dtype=bool))\n",
    "\n",
    "plt.figure(figsize=(8,6))\n",
    "\n",
    "sns.heatmap(correlation_matrix, annot=True, cmap='coolwarm', fmt='.2f', mask=mask, square=True, linewidths=.5)\n",
    "\n",
    "plt.yticks(rotation=0)\n",
    "plt.xticks(rotation=20)\n",
    "plt.title('Correlation Heatmap Apartments')\n",
    "plt.show()"
   ]
  },
  {
   "cell_type": "code",
   "execution_count": null,
   "metadata": {},
   "outputs": [],
   "source": [
    "# House Correlation Heatmap\n",
    "\n",
    "import seaborn as sns\n",
    "import matplotlib.pyplot as plt\n",
    "import numpy as np\n",
    "\n",
    "numerical_data = data_houses[['Price', 'Zip Code', 'Floor Count', 'Room Count', 'Interior Size', 'Exterior Size','Parking','Terrace']]\n",
    "\n",
    "correlation_matrix = numerical_data.corr()\n",
    "\n",
    "mask = np.tril(np.ones_like(correlation_matrix, dtype=bool))\n",
    "\n",
    "plt.figure(figsize=(8, 6))\n",
    "\n",
    "sns.heatmap(correlation_matrix, annot=True, cmap='coolwarm', fmt='.2f', mask=mask, square=True, linewidths=.5)\n",
    "\n",
    "plt.yticks(rotation=0)\n",
    "plt.xticks(rotation=20)\n",
    "plt.title('Correlation Heatmap Houses')\n",
    "plt.show()"
   ]
  },
  {
   "cell_type": "code",
   "execution_count": null,
   "metadata": {},
   "outputs": [],
   "source": [
    "# Apartments Price Histogram\n",
    "import matplotlib.pyplot as plt\n",
    "\n",
    "prices = data_apartments['Price']\n",
    "\n",
    "plt.hist(prices, bins=20, color='skyblue', edgecolor='black')\n",
    "\n",
    "plt.xlabel('Price (€)')\n",
    "plt.ylabel('Frequency')\n",
    "plt.title('Rental Apartment Prices')\n",
    "plt.show()"
   ]
  },
  {
   "cell_type": "code",
   "execution_count": null,
   "metadata": {},
   "outputs": [],
   "source": [
    "# Houses Price Histogram\n",
    "import matplotlib.pyplot as plt\n",
    "\n",
    "prices = data_houses['Price']\n",
    "\n",
    "plt.hist(prices, bins=20, color='skyblue', edgecolor='black')\n",
    "\n",
    "plt.xlabel('Price (€)')\n",
    "plt.ylabel('Frequency')\n",
    "plt.title('Rental House Prices')\n",
    "plt.show()"
   ]
  },
  {
   "cell_type": "code",
   "execution_count": null,
   "metadata": {},
   "outputs": [],
   "source": [
    "# Apartment Room Count Histogram\n",
    "\n",
    "room_count_apartments = data_apartments['Room Count']\n",
    "\n",
    "plt.hist(room_count_apartments, bins=10, color='green', edgecolor='black')\n",
    "\n",
    "plt.xlabel('Room Count')\n",
    "plt.ylabel('Frequency')\n",
    "plt.title('Apartments Room Distribution ')\n",
    "plt.show()"
   ]
  },
  {
   "cell_type": "code",
   "execution_count": null,
   "metadata": {},
   "outputs": [],
   "source": [
    "# House Room Count Histogram\n",
    "\n",
    "room_count_houses = data_houses['Room Count']\n",
    "\n",
    "plt.hist(room_count_houses, bins=10, color='green', edgecolor='black')\n",
    "\n",
    "plt.xlabel('Room Count')\n",
    "plt.ylabel('Frequency')\n",
    "plt.title('Houses Room Distribution ')\n",
    "plt.show()"
   ]
  },
  {
   "cell_type": "code",
   "execution_count": null,
   "metadata": {},
   "outputs": [],
   "source": [
    "# Apartments Interior Size Histogram\n",
    "\n",
    "int_size_houses = data_houses['Interior Size']\n",
    "\n",
    "plt.hist(int_size_houses, bins=20, color='red', edgecolor='black')\n",
    "\n",
    "plt.xlabel('Interior Size')\n",
    "plt.ylabel('Frequency')\n",
    "plt.title('Houses Interior Size ')\n",
    "plt.show()"
   ]
  },
  {
   "cell_type": "code",
   "execution_count": null,
   "metadata": {},
   "outputs": [],
   "source": [
    "# Apartments Interior Size Histogram\n",
    "\n",
    "int_size_apartments = data_apartments['Interior Size']\n",
    "\n",
    "plt.hist(int_size_apartments, bins=20, color='red', edgecolor='black')\n",
    "\n",
    "plt.xlabel('Interior Size')\n",
    "plt.ylabel('Frequency')\n",
    "plt.title('Apartments Interior Size ')\n",
    "plt.show()"
   ]
  },
  {
   "cell_type": "code",
   "execution_count": null,
   "metadata": {},
   "outputs": [],
   "source": [
    "\n",
    "features = apartments_ratings.drop('Price', axis=1) \n",
    "target =  apartments_ratings['Price']\n",
    "\n",
    "# Split the data into training and testing sets\n",
    "X_train, X_test, y_train, y_test = train_test_split(features, target, test_size=0.2, random_state=42)\n",
    "\n",
    "# Train a RandomForestRegressor model\n",
    "model = RandomForestRegressor(random_state=42)\n",
    "model.fit(X_train, y_train)\n",
    "\n",
    "# Get feature importances from the trained model\n",
    "feature_importances = model.feature_importances_\n",
    "\n",
    "# Create a DataFrame to store feature names and their corresponding importances\n",
    "feature_importance_df = pd.DataFrame({'Feature': features.columns, 'Importance': feature_importances})\n",
    "\n",
    "# Sort the DataFrame by importance in descending order\n",
    "feature_importance_df = feature_importance_df.sort_values(by='Importance', ascending=False)\n",
    "\n",
    "# Plot the feature importances\n",
    "plt.figure(figsize=(12, 8))\n",
    "plt.barh(feature_importance_df['Feature'], feature_importance_df['Importance'], color = 'orange')\n",
    "plt.xlabel('Importance')\n",
    "plt.title('Feature Importance Apartments')\n",
    "plt.gca().invert_yaxis()\n",
    "plt.show()"
   ]
  },
  {
   "cell_type": "code",
   "execution_count": null,
   "metadata": {},
   "outputs": [],
   "source": [
    "features = houses_ratings.drop('Price', axis=1) \n",
    "target =  houses_ratings['Price']\n",
    "\n",
    "# Split the data into training and testing sets\n",
    "X_train, X_test, y_train, y_test = train_test_split(features, target, test_size=0.2, random_state=42)\n",
    "\n",
    "# Train a RandomForestRegressor model\n",
    "model = RandomForestRegressor(random_state=42)\n",
    "model.fit(X_train, y_train)\n",
    "\n",
    "# Get feature importances from the trained model\n",
    "feature_importances = model.feature_importances_\n",
    "\n",
    "# Create a DataFrame to store feature names and their corresponding importances\n",
    "feature_importance_df = pd.DataFrame({'Feature': features.columns, 'Importance': feature_importances})\n",
    "\n",
    "# Sort the DataFrame by importance in descending order\n",
    "feature_importance_df = feature_importance_df.sort_values(by='Importance', ascending=False)\n",
    "\n",
    "# Plot the feature importances\n",
    "plt.figure(figsize=(12, 8))\n",
    "plt.barh(feature_importance_df['Feature'], feature_importance_df['Importance'], color = 'orange')\n",
    "plt.xlabel('Importance')\n",
    "plt.title('Feature Importance Apartments')\n",
    "plt.gca().invert_yaxis()\n",
    "plt.show()"
   ]
  },
  {
   "cell_type": "code",
   "execution_count": null,
   "metadata": {},
   "outputs": [],
   "source": [
    "# Apartments Heatmap\n",
    "fig = px.density_mapbox(data_apartments1, lat='Latitude', lon='Longitude', z='Price',\n",
    "                        radius=10,\n",
    "                        center=dict(lat=51.1657, lon=10.4515),\n",
    "                        zoom=5,\n",
    "                        mapbox_style='open-street-map',\n",
    "                        opacity=0.4,  \n",
    "                        color_continuous_scale='RdBu_r'  \n",
    "                        )\n",
    "\n",
    "fig.update_layout(coloraxis_colorbar=dict(title='Price'),\n",
    "                  title='Density Heatmap of Apartment Rental Prices in Germany', width=620,  # Adjust the width\n",
    "                  height=750)\n",
    "\n",
    "fig.show()"
   ]
  },
  {
   "cell_type": "code",
   "execution_count": null,
   "metadata": {},
   "outputs": [],
   "source": [
    "# Houses Heatmap\n",
    "fig = px.density_mapbox(data_houses1, lat='Latitude', lon='Longitude', z='Price',\n",
    "                        radius=10,\n",
    "                        center=dict(lat=51.1657, lon=10.4515),\n",
    "                        zoom=5,\n",
    "                        mapbox_style='open-street-map',\n",
    "                        opacity=0.5,  # Adjust opacity\n",
    "                        color_continuous_scale='RdBu_r'  # Use a different color scale\n",
    "                        )\n",
    "\n",
    "# Adjust color bar and add a title\n",
    "fig.update_layout(coloraxis_colorbar=dict(title='Price'),\n",
    "                  title='Density Heatmap of House Rental Prices in Germany', width=620,  # Adjust the width\n",
    "                  height=750)\n",
    "\n",
    "fig.show()"
   ]
  },
  {
   "cell_type": "markdown",
   "metadata": {},
   "source": [
    "## Non Spatial Price Predictions"
   ]
  },
  {
   "cell_type": "code",
   "execution_count": null,
   "metadata": {},
   "outputs": [],
   "source": [
    "data_apartments_non_spatial = pd.read_excel('apartmentsNonSpatialPredictions.xlsx', engine='openpyxl', dtype={'Zip Code': str})\n",
    "data_houses_non_spatial = pd.read_excel('housesNonSpatialPredictions.xlsx', engine='openpyxl', dtype={'Zip Code': str})"
   ]
  },
  {
   "cell_type": "code",
   "execution_count": null,
   "metadata": {},
   "outputs": [],
   "source": [
    "# Apartments Heatmap\n",
    "fig = px.density_mapbox(data_apartments_non_spatial, lat='Latitude', lon='Longitude', z='Predictions',\n",
    "                        radius=10,\n",
    "                        center=dict(lat=51.1657, lon=10.4515),\n",
    "                        zoom=5,\n",
    "                        mapbox_style='open-street-map',\n",
    "                        opacity=0.4,  \n",
    "                        color_continuous_scale='RdBu_r'  \n",
    "                        )\n",
    "\n",
    "fig.update_layout(coloraxis_colorbar=dict(title='Price'),\n",
    "                  title='Non spatial Price Predictions Apartments', width=620,  # Adjust the width\n",
    "                  height=750)\n",
    "\n",
    "fig.show()"
   ]
  },
  {
   "cell_type": "code",
   "execution_count": null,
   "metadata": {},
   "outputs": [],
   "source": [
    "# Houses Heatmap\n",
    "fig = px.density_mapbox(data_houses_non_spatial, lat='Latitude', lon='Longitude', z='Predictions',\n",
    "                        radius=10,\n",
    "                        center=dict(lat=51.1657, lon=10.4515),\n",
    "                        zoom=5,\n",
    "                        mapbox_style='open-street-map',\n",
    "                        opacity=0.4,  # Adjust opacity\n",
    "                        color_continuous_scale='RdBu_r'  # Use a different color scale\n",
    "                        )\n",
    "\n",
    "# Adjust color bar and add a title\n",
    "fig.update_layout(coloraxis_colorbar=dict(title='Price'),\n",
    "                  title='Non spatial Price Predictions Houses', width=620,  # Adjust the width\n",
    "                  height=750)\n",
    "\n",
    "fig.show()"
   ]
  },
  {
   "cell_type": "code",
   "execution_count": null,
   "metadata": {},
   "outputs": [],
   "source": [
    "# Apartments Price Histogram\n",
    "\n",
    "fig, axs = plt.subplots(1, 2, figsize=(12, 6))\n",
    "\n",
    "axs[0].hist(data_apartments['Price'], bins=20, color='blue', alpha=1, edgecolor='black')\n",
    "axs[0].set_title('Spatial Data Included')\n",
    "axs[0].set_xlabel('Price Pred')\n",
    "\n",
    "axs[1].hist(data_apartments_non_spatial['Predictions'], bins=20, color='red', alpha=1,edgecolor='black')\n",
    "axs[1].set_xlabel('Price Pred')\n",
    "axs[1].set_title('Spatial Data Excluded')\n",
    "\n",
    "plt.ylabel('Frequency')\n",
    "plt.suptitle(\"Price Predictions Apartments\")\n",
    "# plt.tight_layout()\n",
    "plt.show()\n"
   ]
  },
  {
   "cell_type": "code",
   "execution_count": null,
   "metadata": {
    "scrolled": true
   },
   "outputs": [],
   "source": [
    "# Houses Price Histogram\n",
    "\n",
    "fig, axs = plt.subplots(1, 2, figsize=(12, 6))\n",
    "\n",
    "axs[0].hist(data_houses['Price'], bins=20, color='green', alpha=1, edgecolor='black')\n",
    "axs[0].set_title('Spatial Data Included')\n",
    "axs[0].set_xlabel('Price Pred')\n",
    "\n",
    "axs[1].hist(data_houses_non_spatial['Predictions'], bins=20, color='skyblue', alpha=1,edgecolor='black')\n",
    "axs[1].set_xlabel('Price Pred')\n",
    "axs[1].set_title('Spatial Data Excluded')\n",
    "\n",
    "plt.ylabel('Frequency')\n",
    "plt.suptitle(\"Price Predictions Houses\")\n",
    "# plt.tight_layout()\n",
    "plt.show()"
   ]
  },
  {
   "cell_type": "markdown",
   "metadata": {},
   "source": [
    "## Individual Datasets"
   ]
  },
  {
   "cell_type": "code",
   "execution_count": null,
   "metadata": {},
   "outputs": [],
   "source": [
    "immonet_apartments = pd.read_excel('apartments_immonet_no_outliers.xlsx', engine='openpyxl', dtype={'Zip Code': str})\n",
    "immonet_apartments.drop('Link', axis=1, inplace=True)\n",
    "immonet_houses = pd.read_excel('houses_immonet_no_outliers.xlsx', engine='openpyxl', dtype={'Zip Code': str})\n",
    "immonet_houses.drop('Link', axis=1, inplace=True)\n",
    "kleinanzeigen_apartments = pd.read_excel('apartments_kleineinzeigen_no_outliers.xlsx', engine='openpyxl', dtype={'Zip Code': str})\n",
    "kleinanzeigen_houses = pd.read_excel('houses_kleineinzeigen_no_outliers.xlsx', engine='openpyxl', dtype={'Zip Code': str})"
   ]
  },
  {
   "cell_type": "code",
   "execution_count": null,
   "metadata": {},
   "outputs": [],
   "source": [
    "# Immonet Price Histogram\n",
    "\n",
    "fig, axs = plt.subplots(1, 2, figsize=(12, 6))\n",
    "\n",
    "axs[0].hist(immonet_apartments['Price'], bins=20, color='blue', alpha=1, edgecolor='black')\n",
    "axs[0].set_title('Apartments')\n",
    "axs[0].set_xlabel('Price(€)')\n",
    "\n",
    "axs[1].hist(immonet_houses['Price'], bins=20, color='red', alpha=1,edgecolor='black')\n",
    "axs[1].set_xlabel('Price(€)')\n",
    "axs[1].set_title('Houses')\n",
    "\n",
    "plt.ylabel('Frequency')\n",
    "plt.show()\n"
   ]
  },
  {
   "cell_type": "code",
   "execution_count": null,
   "metadata": {},
   "outputs": [],
   "source": [
    "# Houses Price Histogram\n",
    "\n",
    "fig, axs = plt.subplots(1, 2, figsize=(12, 6))\n",
    "\n",
    "axs[0].hist(kleinanzeigen_apartments['Price'], bins=20, color='green', alpha=1, edgecolor='black')\n",
    "axs[0].set_title('Apartment')\n",
    "axs[0].set_xlabel('Price(€)')\n",
    "\n",
    "axs[1].hist(kleinanzeigen_houses['Price'], bins=20, color='skyblue', alpha=1,edgecolor='black')\n",
    "axs[1].set_xlabel('Price(€)')\n",
    "axs[1].set_title('Houses')\n",
    "\n",
    "plt.ylabel('Frequency')\n",
    "plt.show()\n"
   ]
  },
  {
   "cell_type": "code",
   "execution_count": null,
   "metadata": {},
   "outputs": [],
   "source": [
    "# Immonet Room Counts\n",
    "fig, axs = plt.subplots(1, 2, figsize=(12, 6))\n",
    "\n",
    "axs[0].hist(immonet_apartments['Room Count'], bins=10, color='red', alpha=1, edgecolor='black')\n",
    "axs[0].set_title('Apartment')\n",
    "axs[0].set_xlabel('Room Count')\n",
    "\n",
    "axs[1].hist(immonet_houses['Room Count'], bins=10, color='skyblue', alpha=1,edgecolor='black')\n",
    "axs[1].set_xlabel('Room Count')\n",
    "axs[1].set_title('Houses')\n",
    "\n",
    "plt.ylabel('Frequency')\n",
    "plt.show()\n"
   ]
  },
  {
   "cell_type": "code",
   "execution_count": null,
   "metadata": {},
   "outputs": [],
   "source": [
    "# Kleinanzeigen Room Count\n",
    "fig, axs = plt.subplots(1, 2, figsize=(12, 6))\n",
    "\n",
    "axs[0].hist(kleinanzeigen_apartments['Room Count'], bins=10, color='orange', alpha=1, edgecolor='black')\n",
    "axs[0].set_title('Apartment')\n",
    "axs[0].set_xlabel('Room Count')\n",
    "\n",
    "axs[1].hist(kleinanzeigen_houses['Room Count'], bins=10, color='blue', alpha=1,edgecolor='black')\n",
    "axs[1].set_xlabel('Room Count')\n",
    "axs[1].set_title('Houses')\n",
    "\n",
    "plt.ylabel('Frequency')\n",
    "plt.show()\n"
   ]
  },
  {
   "cell_type": "code",
   "execution_count": null,
   "metadata": {},
   "outputs": [],
   "source": [
    "# Correlation for immonet and kleinanzeigen\n",
    "\n",
    "numerical_data1 = immonet_apartments[['Price', 'Zip Code', 'Floor Level', 'Room Count', 'Interior Size', 'Elevator','Storage','Balcony']]\n",
    "correlation_matrix1 = numerical_data1.corr()\n",
    "\n",
    "numerical_data2 = kleinanzeigen_apartments[['Price', 'Zip Code', 'Floor Level', 'Room Count', 'Interior Size', 'Elevator','Storage','Balcony']]\n",
    "correlation_matrix2 = numerical_data2.corr()\n",
    "\n",
    "mask1 = np.tril(np.ones_like(correlation_matrix1, dtype=bool))\n",
    "mask2 = np.tril(np.ones_like(correlation_matrix2, dtype=bool))\n",
    "\n",
    "fig, axs = plt.subplots(1, 2, figsize=(16, 6))\n",
    "\n",
    "sns.heatmap(correlation_matrix1, annot=True, cmap='coolwarm', fmt='.2f', mask=mask1, square=True, linewidths=.5, ax=axs[0])\n",
    "axs[0].set_title('Correlation Heatmap Apartments (immonet)')\n",
    "axs[0].tick_params(axis='x', rotation=40) \n",
    "\n",
    "sns.heatmap(correlation_matrix2, annot=True, cmap='coolwarm', fmt='.2f', mask=mask2, square=True, linewidths=.5, ax=axs[1])\n",
    "axs[1].set_title('Correlation Heatmap Apartments (kleinanzeigen)')\n",
    "axs[1].tick_params(axis='x', rotation=40)  \n",
    "\n",
    "plt.show()"
   ]
  },
  {
   "cell_type": "code",
   "execution_count": null,
   "metadata": {},
   "outputs": [],
   "source": [
    "# Immonet Scatter plots\n",
    "\n",
    "fig, axs = plt.subplots(1, 2, figsize=(12, 6))\n",
    "\n",
    "axs[0].scatter(immonet_apartments['Price'], immonet_apartments['Interior Size'], color='green', alpha=0.5)\n",
    "axs[0].set_title('Apartments')\n",
    "axs[0].set_xlabel('Price(€)')\n",
    "axs[0].set_ylabel('Interior Size')\n",
    "\n",
    "axs[1].scatter(immonet_houses['Price'], immonet_houses['Interior Size'], color='skyblue', alpha=0.5)\n",
    "axs[1].set_title('Houses')\n",
    "axs[1].set_xlabel('Price(€)')\n",
    "axs[1].set_ylabel('Interior Size')\n",
    "\n",
    "plt.tight_layout()\n",
    "plt.show()"
   ]
  },
  {
   "cell_type": "code",
   "execution_count": null,
   "metadata": {},
   "outputs": [],
   "source": [
    "# Kleinanzeigen Scatter plots\n",
    "\n",
    "fig, axs = plt.subplots(1, 2, figsize=(12, 6))\n",
    "\n",
    "axs[0].scatter(kleinanzeigen_apartments['Price'], kleinanzeigen_apartments['Interior Size'], color='green', alpha=0.5)\n",
    "axs[0].set_title('Apartments')\n",
    "axs[0].set_xlabel('Price(€)')\n",
    "axs[0].set_ylabel('Interior Size')\n",
    "\n",
    "axs[1].scatter(kleinanzeigen_houses['Price'], kleinanzeigen_houses['Interior Size'], color='skyblue', alpha=0.5)\n",
    "axs[1].set_title('Houses')\n",
    "axs[1].set_xlabel('Price(€)')\n",
    "axs[1].set_ylabel('Interior Size')\n",
    "\n",
    "plt.tight_layout()\n",
    "plt.show()"
   ]
  },
  {
   "cell_type": "code",
   "execution_count": null,
   "metadata": {},
   "outputs": [],
   "source": [
    "# Apartments Ratings\n",
    "fig, axs = plt.subplots(1, 2, figsize=(12, 8))\n",
    "\n",
    "axs[0].hist(immonet_apartments['Basic Neccessities Rating'], bins=5, color='skyblue', edgecolor='black')\n",
    "axs[0].set_xlabel('Basic Necessities Rating')\n",
    "axs[0].set_ylabel('Frequency')\n",
    "\n",
    "axs[1].hist(immonet_apartments['Transportation Availability Rating'], bins=5, color='orange', edgecolor='black')\n",
    "axs[1].set_xlabel('Transportation Availability Rating')\n",
    "axs[1].set_ylabel('Frequency')\n",
    "\n",
    "plt.tight_layout()\n",
    "plt.show()"
   ]
  },
  {
   "cell_type": "code",
   "execution_count": null,
   "metadata": {},
   "outputs": [],
   "source": [
    "# Houses Ratings\n",
    "fig, axs = plt.subplots(1, 2, figsize=(12, 6))\n",
    "\n",
    "axs[0].hist(immonet_houses['Basic Neccessities Rating'], bins=5, color='brown', edgecolor='black')\n",
    "axs[0].set_xlabel('Basic Necessities Rating')\n",
    "axs[0].set_ylabel('Frequency')\n",
    "\n",
    "axs[1].hist(immonet_houses['Transportation Availability Rating'], bins=5, color='lightgreen', edgecolor='black')\n",
    "axs[1].set_xlabel('Transportation Availability Rating')\n",
    "axs[1].set_ylabel('Frequency')\n",
    "\n",
    "plt.tight_layout()\n",
    "plt.show()"
   ]
  }
 ],
 "metadata": {
  "kernelspec": {
   "display_name": "Python 3",
   "language": "python",
   "name": "python3"
  },
  "language_info": {
   "codemirror_mode": {
    "name": "ipython",
    "version": 3
   },
   "file_extension": ".py",
   "mimetype": "text/x-python",
   "name": "python",
   "nbconvert_exporter": "python",
   "pygments_lexer": "ipython3",
   "version": "3.7.6"
  }
 },
 "nbformat": 4,
 "nbformat_minor": 4
}
