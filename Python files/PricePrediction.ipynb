{
 "cells": [
  {
   "cell_type": "markdown",
   "id": "e5d2d2df-d462-4160-80e3-b4955ebbbf1b",
   "metadata": {
    "jp-MarkdownHeadingCollapsed": true
   },
   "source": [
    "# Packages"
   ]
  },
  {
   "cell_type": "code",
   "execution_count": 1,
   "id": "0389c6a9-5439-42b5-81a3-4e96695ec6b5",
   "metadata": {},
   "outputs": [],
   "source": [
    "import pandas as pd\n",
    "from copy import deepcopy\n",
    "from sklearn import metrics\n",
    "from iteration_utilities import deepflatten\n",
    "from lightgbm import LGBMRegressor\n",
    "from tqdm import tqdm_notebook as tqdm\n",
    "import math\n",
    "import numpy as np\n",
    "from sklearn.decomposition import PCA\n",
    "import matplotlib.pyplot as plt\n",
    "import seaborn as sns\n",
    "from sklearn.metrics import accuracy_score\n",
    "from statsmodels.formula.api import ols\n",
    "from sklearn import linear_model\n",
    "from sklearn.model_selection import cross_val_score\n",
    "from sklearn import preprocessing\n",
    "import itertools\n",
    "import pylab \n",
    "from sklearn.model_selection import RepeatedKFold\n",
    "from hyperopt import hp\n",
    "from sklearn.neighbors import KNeighborsRegressor\n",
    "from sklearn.ensemble import ExtraTreesRegressor\n",
    "from numpy import percentile\n",
    "from sklearn.metrics import mean_squared_error, r2_score, mean_absolute_error, mean_absolute_percentage_error\n",
    "import joblib\n",
    "from xgboost import XGBRegressor\n",
    "from catboost import CatBoostRegressor\n",
    "from numpy import mean\n",
    "from numpy import std\n",
    "from sklearn.model_selection import train_test_split\n",
    "from sklearn.model_selection import RepeatedStratifiedKFold\n",
    "from sklearn import ensemble\n",
    "from sklearn.model_selection import validation_curve\n",
    "from statistics import mean\n",
    "from sklearn.linear_model import LassoCV\n",
    "from sklearn.linear_model import Lasso\n",
    "from sklearn.linear_model import BayesianRidge\n",
    "from sklearn.model_selection import train_test_split\n",
    "from sklearn.model_selection import GridSearchCV\n",
    "from sklearn.model_selection import RandomizedSearchCV\n",
    "from sklearn.tree import DecisionTreeRegressor\n",
    "from sklearn.ensemble import GradientBoostingRegressor\n",
    "from sklearn.ensemble import RandomForestRegressor\n",
    "from scipy.stats import norm\n",
    "from scipy import stats\n",
    "from sklearn.ensemble import AdaBoostRegressor\n",
    "from sklearn import tree\n",
    "from sklearn.tree import plot_tree\n",
    "from sklearn.experimental import enable_iterative_imputer\n",
    "from sklearn.impute import IterativeImputer\n",
    "from sklearn.impute import SimpleImputer\n",
    "from sklearn.feature_selection import RFE\n",
    "from sklearn.pipeline import make_pipeline\n",
    "from sklearn.pipeline import Pipeline\n",
    "from sklearn.ensemble import ExtraTreesRegressor\n",
    "import warnings\n",
    "warnings.filterwarnings('ignore')"
   ]
  },
  {
   "cell_type": "markdown",
   "id": "10740535-330a-41ac-84a3-06b42f6f628e",
   "metadata": {},
   "source": [
    "# Price Prediction"
   ]
  },
  {
   "cell_type": "markdown",
   "id": "69f952a8-d02c-4182-a8a6-b94d0e79de94",
   "metadata": {
    "jp-MarkdownHeadingCollapsed": true
   },
   "source": [
    "## Train/Test Split"
   ]
  },
  {
   "cell_type": "code",
   "execution_count": 2,
   "id": "81015764-320f-470a-8b91-ea55d9198091",
   "metadata": {},
   "outputs": [],
   "source": [
    "apartments = pd.read_excel('apartments_no_outliers_concatenated.xlsx')\n",
    "houses = pd.read_excel('houses_no_outliers_concatenated.xlsx')\n",
    "\n",
    "\n",
    "apartments_ratings = pd.read_excel('apartments_immonet_no_outliers.xlsx')\n",
    "apartments_ratings.drop('Link', axis=1, inplace=True)\n",
    "houses_ratings = pd.read_excel('houses_immonet_no_outliers.xlsx')\n",
    "houses_ratings.drop('Link', axis=1, inplace=True)\n",
    "houses_ratings.drop('House Type', axis=1, inplace=True)\n",
    "\n",
    "apartments_ratings[apartments_ratings.columns[apartments_ratings.isna().any()]] = apartments_ratings[apartments_ratings.columns[apartments_ratings.isna().any()]].fillna(apartments_ratings.median())\n",
    "\n",
    "houses_ratings[houses_ratings.columns[houses_ratings.isna().any()]] = houses_ratings[houses_ratings.columns[houses_ratings.isna().any()]].fillna(houses_ratings.median())"
   ]
  },
  {
   "cell_type": "code",
   "execution_count": 3,
   "id": "a68ed486-ba82-461e-afee-137b31ffcfd3",
   "metadata": {},
   "outputs": [],
   "source": [
    "X_apartments = apartments.drop(columns=['Price'])\n",
    "y_apartments = apartments['Price']\n",
    "\n",
    "X_houses = houses.drop(columns=['Price'])\n",
    "y_houses = houses['Price']\n",
    "\n",
    "X_apartments_rating = apartments_ratings.drop(columns=['Price'])\n",
    "y_apartments_rating = apartments_ratings['Price']\n",
    "\n",
    "X_houses_rating = houses_ratings.drop(columns=['Price'])\n",
    "y_houses_rating = houses_ratings['Price']"
   ]
  },
  {
   "cell_type": "code",
   "execution_count": 4,
   "id": "2aa45e9b-9ce1-468e-bb44-702a3bd4ef5f",
   "metadata": {},
   "outputs": [],
   "source": [
    "X_houses_train, X_houses_test, y_houses_train, y_houses_test = train_test_split(X_houses, y_houses,\n",
    "                                                                                test_size=0.1,\n",
    "                                                                                random_state=50)"
   ]
  },
  {
   "cell_type": "code",
   "execution_count": 5,
   "id": "eb153aad-11ea-412b-a173-6c21b7363e36",
   "metadata": {},
   "outputs": [],
   "source": [
    "X_apartments_train, X_apartments_test, y_apartments_train, y_apartments_test = train_test_split(X_apartments, y_apartments,\n",
    "                                                                                test_size=0.2,\n",
    "                                                                                random_state=50)"
   ]
  },
  {
   "cell_type": "code",
   "execution_count": 6,
   "id": "251ea515-fe36-49ee-b917-857d805f09ea",
   "metadata": {},
   "outputs": [],
   "source": [
    "X_houses_rating_train, X_houses_rating_test, y_houses_rating_train, y_houses_rating_test = train_test_split(X_houses_rating, y_houses_rating,\n",
    "                                                                                test_size=0.1,\n",
    "                                                                                random_state=50)"
   ]
  },
  {
   "cell_type": "code",
   "execution_count": 7,
   "id": "19c37e78-e2b0-43f7-b52b-33e68a1dd364",
   "metadata": {},
   "outputs": [],
   "source": [
    "X_apartments_rating_train, X_apartments_rating_test, y_apartments_rating_train, y_apartments_rating_test = train_test_split(X_apartments_rating, y_apartments_rating,\n",
    "                                                                                test_size=0.2,\n",
    "                                                                                random_state=50)"
   ]
  },
  {
   "cell_type": "code",
   "execution_count": 28,
   "id": "7653e21b-d279-4e61-9c98-48032848c7c7",
   "metadata": {},
   "outputs": [],
   "source": [
    "X_apartments_train_nospatial = X_apartments_train.drop(columns=['Zip Code', 'Latitude', 'Longitude'])\n",
    "X_apartments_test_nospatial = X_apartments_test.drop(columns=['Zip Code', 'Latitude', 'Longitude'])\n",
    "\n",
    "X_houses_train_nospatial = X_houses_train.drop(columns=['Zip Code', 'Latitude', 'Longitude'])\n",
    "X_houses_test_nospatial = X_houses_test.drop(columns=['Zip Code', 'Latitude', 'Longitude'])"
   ]
  },
  {
   "cell_type": "markdown",
   "id": "4cd4685d-51d2-4497-bfcc-72afe0ca318c",
   "metadata": {},
   "source": [
    "## XGB"
   ]
  },
  {
   "cell_type": "code",
   "execution_count": 10,
   "id": "dfdf4685-926d-4c6c-b7c9-c8a7738c1c8a",
   "metadata": {},
   "outputs": [],
   "source": [
    "def hyperParameterTuning(X_train, y_train):\n",
    "    param_tuning = {\n",
    "        'learning_rate': [0.01, 0.1],\n",
    "        'min_child_weight': [1, 3, 5],\n",
    "        'n_estimators': [1000, 1500, 2000, 2500, 3000],\n",
    "    }\n",
    "\n",
    "    xgb_model = XGBRegressor(tree_method='gpu_hist', gpu_id=0) \n",
    "\n",
    "    random_search = RandomizedSearchCV(estimator=xgb_model,\n",
    "                                       param_distributions=param_tuning,\n",
    "                                       scoring='neg_mean_squared_error',\n",
    "                                       cv=5,\n",
    "                                       n_jobs=-1,\n",
    "                                       verbose=2,\n",
    "                                       n_iter=10)\n",
    "\n",
    "    random_search.fit(X_train, y_train)\n",
    "\n",
    "    return random_search.best_params_"
   ]
  },
  {
   "cell_type": "markdown",
   "id": "c1353be4-12ab-49ec-96e5-ebeb067d84d4",
   "metadata": {
    "jp-MarkdownHeadingCollapsed": true
   },
   "source": [
    "### Apartments"
   ]
  },
  {
   "cell_type": "code",
   "execution_count": 10,
   "id": "8009ea29-00fc-4468-9d0e-8cd468e243e4",
   "metadata": {},
   "outputs": [
    {
     "name": "stdout",
     "output_type": "stream",
     "text": [
      "Fitting 5 folds for each of 10 candidates, totalling 50 fits\n",
      "MAE:  149.42951843835118\n",
      "MAPE:  2.720523878228828\n",
      "R2:  0.7541888573463253\n"
     ]
    }
   ],
   "source": [
    "tune = hyperParameterTuning(X_apartments_train,\n",
    "                            y_apartments_train)\n",
    "\n",
    "xgb_model = XGBRegressor(\n",
    "    tree_method='gpu_hist',\n",
    "    gpu_id=0,\n",
    "    learning_rate=tune['learning_rate'],\n",
    "    min_child_weight=tune['min_child_weight'],\n",
    "    n_estimators=tune['n_estimators']\n",
    ")\n",
    "\n",
    "# Train the model with early stopping\n",
    "xgb_model.fit(X_apartments_train,\n",
    "              y_apartments_train,\n",
    "              early_stopping_rounds=5,\n",
    "              eval_set=[(X_apartments_test, y_apartments_test)],\n",
    "              verbose=False)\n",
    "\n",
    "\n",
    "y_pred_xgb = xgb_model.predict(X_apartments_test)\n",
    "mse_xgb = mean_absolute_error(y_apartments_test, y_pred_xgb)\n",
    "mape_xgb = mean_absolute_percentage_error(y_apartments_test, y_pred_xgb)\n",
    "\n",
    "\n",
    "print(\"MAE: \", mse_xgb)\n",
    "print(\"MAPE: \", mape_xgb)\n",
    "print(\"R2: \", r2_score(y_apartments_test, y_pred_xgb))"
   ]
  },
  {
   "cell_type": "markdown",
   "id": "4531bb4f-1a27-441d-8112-6f4a1309a426",
   "metadata": {
    "jp-MarkdownHeadingCollapsed": true
   },
   "source": [
    "### Houses"
   ]
  },
  {
   "cell_type": "code",
   "execution_count": 11,
   "id": "412644cb-0268-42f0-bd68-6f2ff892551f",
   "metadata": {},
   "outputs": [
    {
     "name": "stdout",
     "output_type": "stream",
     "text": [
      "Fitting 5 folds for each of 10 candidates, totalling 50 fits\n",
      "MAE:  322.5357528997927\n",
      "MAPE:  8.483863812972897\n",
      "R2:  0.5912770428913885\n"
     ]
    }
   ],
   "source": [
    "tune = hyperParameterTuning(X_houses_train,\n",
    "                            y_houses_train)\n",
    "\n",
    "xgb_model2 = XGBRegressor(\n",
    "    tree_method='gpu_hist',\n",
    "    gpu_id=0,\n",
    "    learning_rate=tune['learning_rate'],\n",
    "    min_child_weight=tune['min_child_weight'],\n",
    "    n_estimators=tune['n_estimators']\n",
    ")\n",
    "\n",
    "# Train the model with early stopping\n",
    "xgb_model2.fit(X_houses_train,\n",
    "              y_houses_train,\n",
    "              early_stopping_rounds=5,\n",
    "              eval_set=[(X_houses_train, y_houses_train)],\n",
    "              verbose=False)\n",
    "\n",
    "\n",
    "y_pred_xgb2 = xgb_model2.predict(X_houses_test)\n",
    "mse_xgb2 = mean_absolute_error(y_houses_test, y_pred_xgb2)\n",
    "mape_xgb2 = mean_absolute_percentage_error(y_houses_test, y_pred_xgb2)\n",
    "\n",
    "\n",
    "print(\"MAE: \", mse_xgb2)\n",
    "print(\"MAPE: \", mape_xgb2)\n",
    "print(\"R2: \", r2_score(y_houses_test, y_pred_xgb2))"
   ]
  },
  {
   "cell_type": "markdown",
   "id": "e53646f2-c479-4fb8-b06b-edf23c0df758",
   "metadata": {
    "jp-MarkdownHeadingCollapsed": true
   },
   "source": [
    "### Houses w/o Spatial Data"
   ]
  },
  {
   "cell_type": "code",
   "execution_count": 29,
   "id": "1bc486de-1b67-4f46-8c3f-e7a7d8cdffa8",
   "metadata": {},
   "outputs": [
    {
     "name": "stdout",
     "output_type": "stream",
     "text": [
      "MAE:  450.7396187918527\n",
      "MAPE:  11.174483553674825\n",
      "R2:  0.23870772162494758\n"
     ]
    }
   ],
   "source": [
    "xgb_model5 = XGBRegressor(\n",
    "    tree_method='gpu_hist',\n",
    "    gpu_id=0,\n",
    ")\n",
    "\n",
    "# Train the model with early stopping\n",
    "xgb_model5.fit(X_houses_train_nospatial,\n",
    "              y_houses_train,\n",
    "              early_stopping_rounds=5,\n",
    "              eval_set=[(X_houses_train_nospatial, y_houses_train)],\n",
    "              verbose=False)\n",
    "\n",
    "\n",
    "y_pred_xgb5 = xgb_model5.predict(X_houses_test_nospatial)\n",
    "mse_xgb5 = mean_absolute_error(y_houses_test, y_pred_xgb5)\n",
    "mape_xgb5 = mean_absolute_percentage_error(y_houses_test, y_pred_xgb5)\n",
    "\n",
    "\n",
    "print(\"MAE: \", mse_xgb5)\n",
    "print(\"MAPE: \", mape_xgb5)\n",
    "print(\"R2: \", r2_score(y_houses_test, y_pred_xgb5))"
   ]
  },
  {
   "cell_type": "code",
   "execution_count": 34,
   "id": "c751e809-2754-4f41-94bd-55987fe1bb1a",
   "metadata": {},
   "outputs": [],
   "source": [
    "X_houses_nospatial = X_houses.drop(columns=['Zip Code', 'Latitude', 'Longitude'])\n",
    "houses_nonspatial_predictions = xgb_model5.predict(X_houses_nospatial)\n",
    "\n",
    "houses_nonspatial = X_houses\n",
    "houses_nonspatial['Predictions'] = houses_nonspatial_predictions\n",
    "\n",
    "houses_nonspatial.to_excel('housesNonSpatialPredictions.xlsx', index=False)"
   ]
  },
  {
   "cell_type": "markdown",
   "id": "6ff2e74a-bd87-4445-896e-e52e6895e096",
   "metadata": {
    "jp-MarkdownHeadingCollapsed": true
   },
   "source": [
    "### Apartments with Rating Metrics"
   ]
  },
  {
   "cell_type": "code",
   "execution_count": 12,
   "id": "e522f531-0682-4c3f-989e-4e184eecd627",
   "metadata": {},
   "outputs": [
    {
     "name": "stdout",
     "output_type": "stream",
     "text": [
      "Fitting 5 folds for each of 10 candidates, totalling 50 fits\n",
      "MAE:  125.05479445583431\n",
      "MAPE:  0.16253242751191632\n",
      "R2:  0.8559961498662265\n"
     ]
    }
   ],
   "source": [
    "tune = hyperParameterTuning(X_apartments_rating_train,\n",
    "                            y_apartments_rating_train)\n",
    "\n",
    "xgb_model3 = XGBRegressor(\n",
    "    tree_method='gpu_hist',\n",
    "    gpu_id=0,\n",
    "    learning_rate=tune['learning_rate'],\n",
    "    min_child_weight=tune['min_child_weight'],\n",
    "    n_estimators=tune['n_estimators']\n",
    ")\n",
    "\n",
    "# Train the model with early stopping\n",
    "xgb_model3.fit(X_apartments_rating_train,\n",
    "              y_apartments_rating_train,\n",
    "              early_stopping_rounds=5,\n",
    "              eval_set=[(X_apartments_rating_train, y_apartments_rating_train)],\n",
    "              verbose=False)\n",
    "\n",
    "\n",
    "y_pred_xgb3 = xgb_model3.predict(X_apartments_rating_test)\n",
    "\n",
    "mse_xgb3 = mean_absolute_error(y_apartments_rating_test, y_pred_xgb3)\n",
    "mape_xgb3 = mean_absolute_percentage_error(y_apartments_rating_test, y_pred_xgb3)\n",
    "\n",
    "\n",
    "print(\"MAE: \", mse_xgb3)\n",
    "print(\"MAPE: \", mape_xgb3)\n",
    "print(\"R2: \", r2_score(y_apartments_rating_test, y_pred_xgb3))"
   ]
  },
  {
   "cell_type": "markdown",
   "id": "583eae24-e0cf-4c18-ba46-aaf995ba4f9f",
   "metadata": {
    "jp-MarkdownHeadingCollapsed": true
   },
   "source": [
    "### Apartments w/o Spatial Data"
   ]
  },
  {
   "cell_type": "code",
   "execution_count": 10,
   "id": "ffddbca8-906f-453d-bc8d-8bc9d69e945f",
   "metadata": {},
   "outputs": [
    {
     "name": "stdout",
     "output_type": "stream",
     "text": [
      "MAE:  245.52627291472984\n",
      "MAPE:  2.683849701856332\n",
      "R2:  0.4050445295889805\n"
     ]
    }
   ],
   "source": [
    "xgb_model4 = XGBRegressor(\n",
    "    tree_method='gpu_hist',\n",
    "    gpu_id=0\n",
    ")\n",
    "\n",
    "# Train the model with early stopping\n",
    "xgb_model4.fit(X_apartments_train_nospatial,\n",
    "              y_apartments_train,\n",
    "              early_stopping_rounds=5,\n",
    "              eval_set=[(X_apartments_train_nospatial, y_apartments_train)],\n",
    "              verbose=False)\n",
    "\n",
    "\n",
    "y_pred_xgb4 = xgb_model4.predict(X_apartments_test_nospatial)\n",
    "\n",
    "mse_xgb4 = mean_absolute_error(y_apartments_test, y_pred_xgb4)\n",
    "mape_xgb4 = mean_absolute_percentage_error(y_apartments_test, y_pred_xgb4)\n",
    "\n",
    "\n",
    "print(\"MAE: \", mse_xgb4)\n",
    "print(\"MAPE: \", mape_xgb4)\n",
    "print(\"R2: \", r2_score(y_apartments_test, y_pred_xgb4))"
   ]
  },
  {
   "cell_type": "code",
   "execution_count": 33,
   "id": "54f0d336-023c-44d6-8f34-bcac60964cd5",
   "metadata": {},
   "outputs": [],
   "source": [
    "X_apartments_nospatial = X_apartments.drop(columns=['Zip Code', 'Latitude', 'Longitude'])\n",
    "apartments_nonspatial_predictions = xgb_model4.predict(X_apartments_nospatial)\n",
    "\n",
    "apartments_nonspatial = X_apartments\n",
    "apartments_nonspatial['Predictions'] = apartments_nonspatial_predictions\n",
    "\n",
    "apartments_nonspatial.to_excel('apartmentsNonSpatialPredictions.xlsx', index=False)"
   ]
  },
  {
   "cell_type": "markdown",
   "id": "b0a035f1-4090-425f-81c1-5ebef7502f19",
   "metadata": {
    "jp-MarkdownHeadingCollapsed": true
   },
   "source": [
    "### Houses with Rating Metrics"
   ]
  },
  {
   "cell_type": "code",
   "execution_count": 13,
   "id": "8d87607a-3123-439e-9459-efb35bfcc23d",
   "metadata": {},
   "outputs": [
    {
     "name": "stdout",
     "output_type": "stream",
     "text": [
      "Fitting 5 folds for each of 10 candidates, totalling 50 fits\n",
      "MAE:  415.7393736097548\n",
      "MAPE:  0.2406718779639277\n",
      "R2:  0.5314765281427893\n"
     ]
    }
   ],
   "source": [
    "# Houses Rating\n",
    "\n",
    "tune = hyperParameterTuning(X_houses_rating_train,\n",
    "                            y_houses_rating_train)\n",
    "\n",
    "xgb_model4 = XGBRegressor(\n",
    "    tree_method='gpu_hist',\n",
    "    gpu_id=0,\n",
    "    learning_rate=tune['learning_rate'],\n",
    "    min_child_weight=tune['min_child_weight'],\n",
    "    n_estimators=tune['n_estimators']\n",
    ")\n",
    "\n",
    "# Train the model with early stopping\n",
    "xgb_model4.fit(X_houses_rating_train,\n",
    "              y_houses_rating_train,\n",
    "              early_stopping_rounds=5,\n",
    "              eval_set=[(X_houses_rating_train, y_houses_rating_train)],\n",
    "              verbose=False)\n",
    "\n",
    "\n",
    "y_pred_xgb4 = xgb_model4.predict(X_houses_rating_test)\n",
    "mse_xgb4 = mean_absolute_error(y_houses_rating_test, y_pred_xgb4)\n",
    "mape_xgb4 = mean_absolute_percentage_error(y_houses_rating_test, y_pred_xgb4)\n",
    "\n",
    "\n",
    "print(\"MAE: \", mse_xgb4)\n",
    "print(\"MAPE: \", mape_xgb4)\n",
    "print(\"R2: \", r2_score(y_houses_rating_test, y_pred_xgb4))"
   ]
  },
  {
   "cell_type": "markdown",
   "id": "afee2b39-35aa-44f1-bbcd-26a36565fd99",
   "metadata": {
    "jp-MarkdownHeadingCollapsed": true
   },
   "source": [
    "## CatBoost"
   ]
  },
  {
   "cell_type": "markdown",
   "id": "cef8d66f-3f28-4073-b2f8-eaf93f2c681c",
   "metadata": {
    "jp-MarkdownHeadingCollapsed": true
   },
   "source": [
    "### Apartments"
   ]
  },
  {
   "cell_type": "code",
   "execution_count": 21,
   "id": "4566dd8f-e0a5-4a62-a933-08118cc1885a",
   "metadata": {},
   "outputs": [
    {
     "name": "stdout",
     "output_type": "stream",
     "text": [
      "0:\tlearn: 418.1852188\ttotal: 155ms\tremaining: 15.4s\n",
      "1:\tlearn: 397.1504074\ttotal: 172ms\tremaining: 8.41s\n",
      "2:\tlearn: 379.6893132\ttotal: 186ms\tremaining: 6.01s\n",
      "3:\tlearn: 362.6079254\ttotal: 200ms\tremaining: 4.8s\n",
      "4:\tlearn: 347.0303840\ttotal: 215ms\tremaining: 4.08s\n",
      "5:\tlearn: 333.3356630\ttotal: 229ms\tremaining: 3.59s\n",
      "6:\tlearn: 321.8008318\ttotal: 244ms\tremaining: 3.25s\n",
      "7:\tlearn: 312.5446267\ttotal: 259ms\tremaining: 2.97s\n",
      "8:\tlearn: 303.3590531\ttotal: 272ms\tremaining: 2.75s\n",
      "9:\tlearn: 296.0525831\ttotal: 285ms\tremaining: 2.56s\n",
      "10:\tlearn: 289.6110720\ttotal: 297ms\tremaining: 2.4s\n",
      "11:\tlearn: 283.2350269\ttotal: 309ms\tremaining: 2.27s\n",
      "12:\tlearn: 277.9260342\ttotal: 322ms\tremaining: 2.15s\n",
      "13:\tlearn: 273.7738493\ttotal: 335ms\tremaining: 2.06s\n",
      "14:\tlearn: 269.5852977\ttotal: 347ms\tremaining: 1.97s\n",
      "15:\tlearn: 265.9203030\ttotal: 360ms\tremaining: 1.89s\n",
      "16:\tlearn: 261.9518382\ttotal: 373ms\tremaining: 1.82s\n",
      "17:\tlearn: 259.2851844\ttotal: 386ms\tremaining: 1.76s\n",
      "18:\tlearn: 256.5941214\ttotal: 399ms\tremaining: 1.7s\n",
      "19:\tlearn: 254.3152938\ttotal: 411ms\tremaining: 1.65s\n",
      "20:\tlearn: 252.5055210\ttotal: 425ms\tremaining: 1.6s\n",
      "21:\tlearn: 250.5907494\ttotal: 437ms\tremaining: 1.55s\n",
      "22:\tlearn: 248.5664571\ttotal: 449ms\tremaining: 1.5s\n",
      "23:\tlearn: 247.0226566\ttotal: 461ms\tremaining: 1.46s\n",
      "24:\tlearn: 245.4463743\ttotal: 474ms\tremaining: 1.42s\n",
      "25:\tlearn: 244.2653647\ttotal: 487ms\tremaining: 1.38s\n",
      "26:\tlearn: 242.9979331\ttotal: 500ms\tremaining: 1.35s\n",
      "27:\tlearn: 241.6425664\ttotal: 513ms\tremaining: 1.32s\n",
      "28:\tlearn: 240.5037179\ttotal: 525ms\tremaining: 1.29s\n",
      "29:\tlearn: 239.5829971\ttotal: 539ms\tremaining: 1.26s\n",
      "30:\tlearn: 238.5613950\ttotal: 551ms\tremaining: 1.23s\n",
      "31:\tlearn: 237.5761127\ttotal: 564ms\tremaining: 1.2s\n",
      "32:\tlearn: 236.6420194\ttotal: 577ms\tremaining: 1.17s\n",
      "33:\tlearn: 235.8323325\ttotal: 589ms\tremaining: 1.14s\n",
      "34:\tlearn: 235.1180227\ttotal: 601ms\tremaining: 1.12s\n",
      "35:\tlearn: 234.3423568\ttotal: 613ms\tremaining: 1.09s\n",
      "36:\tlearn: 233.8971383\ttotal: 625ms\tremaining: 1.06s\n",
      "37:\tlearn: 233.1951425\ttotal: 637ms\tremaining: 1.04s\n",
      "38:\tlearn: 232.6817232\ttotal: 650ms\tremaining: 1.02s\n",
      "39:\tlearn: 231.9831418\ttotal: 663ms\tremaining: 994ms\n",
      "40:\tlearn: 231.2256690\ttotal: 675ms\tremaining: 971ms\n",
      "41:\tlearn: 230.7677623\ttotal: 687ms\tremaining: 949ms\n",
      "42:\tlearn: 230.1623863\ttotal: 699ms\tremaining: 927ms\n",
      "43:\tlearn: 229.5943038\ttotal: 712ms\tremaining: 906ms\n",
      "44:\tlearn: 229.0657745\ttotal: 725ms\tremaining: 886ms\n",
      "45:\tlearn: 228.6703741\ttotal: 737ms\tremaining: 865ms\n",
      "46:\tlearn: 228.0031873\ttotal: 748ms\tremaining: 844ms\n",
      "47:\tlearn: 227.5814404\ttotal: 761ms\tremaining: 824ms\n",
      "48:\tlearn: 227.0334247\ttotal: 773ms\tremaining: 805ms\n",
      "49:\tlearn: 226.8223692\ttotal: 786ms\tremaining: 786ms\n",
      "50:\tlearn: 226.3721087\ttotal: 798ms\tremaining: 766ms\n",
      "51:\tlearn: 225.8453190\ttotal: 810ms\tremaining: 748ms\n",
      "52:\tlearn: 225.2168386\ttotal: 823ms\tremaining: 730ms\n",
      "53:\tlearn: 224.8272524\ttotal: 836ms\tremaining: 712ms\n",
      "54:\tlearn: 224.5527159\ttotal: 850ms\tremaining: 695ms\n",
      "55:\tlearn: 224.3086176\ttotal: 863ms\tremaining: 678ms\n",
      "56:\tlearn: 223.8901880\ttotal: 876ms\tremaining: 661ms\n",
      "57:\tlearn: 223.5226872\ttotal: 888ms\tremaining: 643ms\n",
      "58:\tlearn: 223.2017483\ttotal: 900ms\tremaining: 626ms\n",
      "59:\tlearn: 222.7437802\ttotal: 913ms\tremaining: 608ms\n",
      "60:\tlearn: 222.3708102\ttotal: 925ms\tremaining: 592ms\n",
      "61:\tlearn: 222.1206158\ttotal: 940ms\tremaining: 576ms\n",
      "62:\tlearn: 221.7467601\ttotal: 955ms\tremaining: 561ms\n",
      "63:\tlearn: 221.4868737\ttotal: 968ms\tremaining: 544ms\n",
      "64:\tlearn: 221.1130366\ttotal: 982ms\tremaining: 529ms\n",
      "65:\tlearn: 220.7486448\ttotal: 996ms\tremaining: 513ms\n",
      "66:\tlearn: 220.4091425\ttotal: 1.01s\tremaining: 498ms\n",
      "67:\tlearn: 220.1607592\ttotal: 1.02s\tremaining: 482ms\n",
      "68:\tlearn: 219.7772035\ttotal: 1.04s\tremaining: 466ms\n",
      "69:\tlearn: 219.5059958\ttotal: 1.05s\tremaining: 451ms\n",
      "70:\tlearn: 219.0732651\ttotal: 1.06s\tremaining: 435ms\n",
      "71:\tlearn: 218.6590771\ttotal: 1.08s\tremaining: 420ms\n",
      "72:\tlearn: 218.3956760\ttotal: 1.09s\tremaining: 404ms\n",
      "73:\tlearn: 218.0085036\ttotal: 1.1s\tremaining: 388ms\n",
      "74:\tlearn: 217.7853479\ttotal: 1.11s\tremaining: 372ms\n",
      "75:\tlearn: 217.3385846\ttotal: 1.13s\tremaining: 356ms\n",
      "76:\tlearn: 216.9805450\ttotal: 1.14s\tremaining: 340ms\n",
      "77:\tlearn: 216.5814368\ttotal: 1.15s\tremaining: 325ms\n",
      "78:\tlearn: 216.3060831\ttotal: 1.16s\tremaining: 309ms\n",
      "79:\tlearn: 216.0777323\ttotal: 1.18s\tremaining: 294ms\n",
      "80:\tlearn: 215.9433874\ttotal: 1.19s\tremaining: 278ms\n",
      "81:\tlearn: 215.7180824\ttotal: 1.2s\tremaining: 263ms\n",
      "82:\tlearn: 215.5210085\ttotal: 1.21s\tremaining: 248ms\n",
      "83:\tlearn: 215.2623137\ttotal: 1.22s\tremaining: 233ms\n",
      "84:\tlearn: 215.0940559\ttotal: 1.24s\tremaining: 218ms\n",
      "85:\tlearn: 214.7742771\ttotal: 1.25s\tremaining: 203ms\n",
      "86:\tlearn: 214.4236393\ttotal: 1.26s\tremaining: 188ms\n",
      "87:\tlearn: 214.1842787\ttotal: 1.27s\tremaining: 173ms\n",
      "88:\tlearn: 213.9285903\ttotal: 1.28s\tremaining: 159ms\n",
      "89:\tlearn: 213.6990719\ttotal: 1.29s\tremaining: 144ms\n",
      "90:\tlearn: 213.3907368\ttotal: 1.31s\tremaining: 129ms\n",
      "91:\tlearn: 213.0736935\ttotal: 1.32s\tremaining: 115ms\n",
      "92:\tlearn: 212.7987751\ttotal: 1.33s\tremaining: 100ms\n",
      "93:\tlearn: 212.5748662\ttotal: 1.34s\tremaining: 85.7ms\n",
      "94:\tlearn: 212.3434877\ttotal: 1.35s\tremaining: 71.3ms\n",
      "95:\tlearn: 212.1523698\ttotal: 1.37s\tremaining: 57ms\n",
      "96:\tlearn: 211.9165303\ttotal: 1.38s\tremaining: 42.7ms\n",
      "97:\tlearn: 211.7136990\ttotal: 1.39s\tremaining: 28.4ms\n",
      "98:\tlearn: 211.5004634\ttotal: 1.4s\tremaining: 14.2ms\n",
      "99:\tlearn: 211.2928597\ttotal: 1.42s\tremaining: 0us\n"
     ]
    },
    {
     "data": {
      "text/plain": [
       "{'depth': 10, 'iterations': 100, 'learning_rate': 0.1}"
      ]
     },
     "execution_count": 21,
     "metadata": {},
     "output_type": "execute_result"
    }
   ],
   "source": [
    "parameters = {\n",
    "    'depth': [6, 8, 10], \n",
    "    'learning_rate': [0.01, 0.05, 0.1],\n",
    "    'iterations': [30, 50, 100]\n",
    "}\n",
    "\n",
    "cat_model = CatBoostRegressor()\n",
    "\n",
    "grid = GridSearchCV(estimator = cat_model, param_grid = parameters, cv = 5, n_jobs = -1)\n",
    "grid.fit(X_apartments_train, y_apartments_train)\n",
    "grid.best_params_"
   ]
  },
  {
   "cell_type": "code",
   "execution_count": 22,
   "id": "a49ff329-f722-4440-acf3-8c563516e30d",
   "metadata": {},
   "outputs": [
    {
     "name": "stdout",
     "output_type": "stream",
     "text": [
      "MAE:  155.07648904176517\n",
      "MAPE:  2.7246256636349604\n",
      "R2:  0.7429515708304135\n"
     ]
    }
   ],
   "source": [
    "model_cat = CatBoostRegressor(\n",
    "    depth = grid.best_params_.get('depth'),\n",
    "    learning_rate = grid.best_params_.get('learning_rate'),\n",
    "    iterations = grid.best_params_.get('iterations')\n",
    ")\n",
    "\n",
    "model_cat.fit(X_apartments_train, y_apartments_train, use_best_model=True, silent = True,\n",
    "             eval_set = (X_apartments_test, y_apartments_test))\n",
    "\n",
    "y_pred_cat = model_cat.predict(X_apartments_test)\n",
    "mse_cat = mean_absolute_error(y_apartments_test, y_pred_cat)\n",
    "mape_cat = mean_absolute_percentage_error(y_apartments_test, y_pred_cat)\n",
    "\n",
    "\n",
    "print(\"MAE: \", mse_cat)\n",
    "print(\"MAPE: \", mape_cat)\n",
    "print(\"R2: \", r2_score(y_apartments_test, y_pred_cat))"
   ]
  },
  {
   "cell_type": "markdown",
   "id": "fb81b9f3-2b60-4d2b-8dcc-1e0d7e0c8a72",
   "metadata": {
    "jp-MarkdownHeadingCollapsed": true
   },
   "source": [
    "### Houses"
   ]
  },
  {
   "cell_type": "code",
   "execution_count": 23,
   "id": "4fd58609-a0c2-4652-8e6e-32df9f70820c",
   "metadata": {},
   "outputs": [
    {
     "name": "stdout",
     "output_type": "stream",
     "text": [
      "0:\tlearn: 648.1007102\ttotal: 4.64ms\tremaining: 459ms\n",
      "1:\tlearn: 628.1738251\ttotal: 8.04ms\tremaining: 394ms\n",
      "2:\tlearn: 610.0538889\ttotal: 11ms\tremaining: 355ms\n",
      "3:\tlearn: 595.7479081\ttotal: 14.2ms\tremaining: 340ms\n",
      "4:\tlearn: 581.1153865\ttotal: 17.6ms\tremaining: 334ms\n",
      "5:\tlearn: 566.9443891\ttotal: 20.6ms\tremaining: 323ms\n",
      "6:\tlearn: 554.0251034\ttotal: 23.5ms\tremaining: 312ms\n",
      "7:\tlearn: 542.9897960\ttotal: 26.5ms\tremaining: 305ms\n",
      "8:\tlearn: 533.2078124\ttotal: 29.6ms\tremaining: 299ms\n",
      "9:\tlearn: 525.6427647\ttotal: 32.5ms\tremaining: 293ms\n",
      "10:\tlearn: 518.0542475\ttotal: 35.4ms\tremaining: 287ms\n",
      "11:\tlearn: 510.5022094\ttotal: 38.5ms\tremaining: 283ms\n",
      "12:\tlearn: 501.7557040\ttotal: 41.4ms\tremaining: 277ms\n",
      "13:\tlearn: 493.3247810\ttotal: 44.4ms\tremaining: 273ms\n",
      "14:\tlearn: 487.0218155\ttotal: 47.4ms\tremaining: 269ms\n",
      "15:\tlearn: 480.4537221\ttotal: 50.2ms\tremaining: 263ms\n",
      "16:\tlearn: 475.2113769\ttotal: 53ms\tremaining: 259ms\n",
      "17:\tlearn: 470.6788448\ttotal: 55.7ms\tremaining: 254ms\n",
      "18:\tlearn: 465.3515019\ttotal: 58.6ms\tremaining: 250ms\n",
      "19:\tlearn: 461.6374320\ttotal: 61.3ms\tremaining: 245ms\n",
      "20:\tlearn: 457.9437107\ttotal: 64.1ms\tremaining: 241ms\n",
      "21:\tlearn: 454.1250337\ttotal: 66.9ms\tremaining: 237ms\n",
      "22:\tlearn: 450.8046190\ttotal: 69.6ms\tremaining: 233ms\n",
      "23:\tlearn: 447.8128213\ttotal: 72.4ms\tremaining: 229ms\n",
      "24:\tlearn: 444.4825457\ttotal: 75.2ms\tremaining: 226ms\n",
      "25:\tlearn: 441.1042743\ttotal: 78.3ms\tremaining: 223ms\n",
      "26:\tlearn: 439.0278646\ttotal: 81.2ms\tremaining: 219ms\n",
      "27:\tlearn: 436.4887641\ttotal: 83.8ms\tremaining: 215ms\n",
      "28:\tlearn: 434.5414748\ttotal: 86.6ms\tremaining: 212ms\n",
      "29:\tlearn: 432.5148260\ttotal: 89.2ms\tremaining: 208ms\n",
      "30:\tlearn: 430.9471627\ttotal: 92ms\tremaining: 205ms\n",
      "31:\tlearn: 429.0395284\ttotal: 94.9ms\tremaining: 202ms\n",
      "32:\tlearn: 425.9546196\ttotal: 97.7ms\tremaining: 198ms\n",
      "33:\tlearn: 422.0467945\ttotal: 100ms\tremaining: 195ms\n",
      "34:\tlearn: 419.9198733\ttotal: 103ms\tremaining: 191ms\n",
      "35:\tlearn: 418.2038553\ttotal: 106ms\tremaining: 188ms\n",
      "36:\tlearn: 415.6332579\ttotal: 109ms\tremaining: 185ms\n",
      "37:\tlearn: 413.1986416\ttotal: 112ms\tremaining: 182ms\n",
      "38:\tlearn: 410.6110963\ttotal: 114ms\tremaining: 179ms\n",
      "39:\tlearn: 409.1922631\ttotal: 117ms\tremaining: 176ms\n",
      "40:\tlearn: 407.4203982\ttotal: 120ms\tremaining: 173ms\n",
      "41:\tlearn: 406.4479232\ttotal: 123ms\tremaining: 170ms\n",
      "42:\tlearn: 405.1880608\ttotal: 126ms\tremaining: 167ms\n",
      "43:\tlearn: 403.7560205\ttotal: 129ms\tremaining: 164ms\n",
      "44:\tlearn: 402.3838501\ttotal: 132ms\tremaining: 162ms\n",
      "45:\tlearn: 401.1453585\ttotal: 135ms\tremaining: 159ms\n",
      "46:\tlearn: 399.1798752\ttotal: 138ms\tremaining: 156ms\n",
      "47:\tlearn: 397.5677728\ttotal: 141ms\tremaining: 153ms\n",
      "48:\tlearn: 396.1927709\ttotal: 144ms\tremaining: 150ms\n",
      "49:\tlearn: 394.3926594\ttotal: 147ms\tremaining: 147ms\n",
      "50:\tlearn: 392.8451098\ttotal: 150ms\tremaining: 144ms\n",
      "51:\tlearn: 390.6055737\ttotal: 153ms\tremaining: 141ms\n",
      "52:\tlearn: 389.5741891\ttotal: 155ms\tremaining: 138ms\n",
      "53:\tlearn: 388.4999851\ttotal: 158ms\tremaining: 135ms\n",
      "54:\tlearn: 387.4290433\ttotal: 161ms\tremaining: 132ms\n",
      "55:\tlearn: 386.4449738\ttotal: 164ms\tremaining: 129ms\n",
      "56:\tlearn: 384.5701684\ttotal: 167ms\tremaining: 126ms\n",
      "57:\tlearn: 382.8935272\ttotal: 170ms\tremaining: 123ms\n",
      "58:\tlearn: 381.5749724\ttotal: 173ms\tremaining: 120ms\n",
      "59:\tlearn: 379.9169788\ttotal: 176ms\tremaining: 117ms\n",
      "60:\tlearn: 378.5953310\ttotal: 179ms\tremaining: 114ms\n",
      "61:\tlearn: 377.1947536\ttotal: 181ms\tremaining: 111ms\n",
      "62:\tlearn: 376.5281879\ttotal: 184ms\tremaining: 108ms\n",
      "63:\tlearn: 374.9936740\ttotal: 187ms\tremaining: 105ms\n",
      "64:\tlearn: 374.2115419\ttotal: 190ms\tremaining: 102ms\n",
      "65:\tlearn: 372.5538407\ttotal: 193ms\tremaining: 99.2ms\n",
      "66:\tlearn: 371.7908352\ttotal: 195ms\tremaining: 96.2ms\n",
      "67:\tlearn: 369.9748606\ttotal: 198ms\tremaining: 93.3ms\n",
      "68:\tlearn: 368.7466046\ttotal: 201ms\tremaining: 90.3ms\n",
      "69:\tlearn: 367.6506663\ttotal: 203ms\tremaining: 87.2ms\n",
      "70:\tlearn: 367.0703088\ttotal: 206ms\tremaining: 84.1ms\n",
      "71:\tlearn: 366.0687234\ttotal: 208ms\tremaining: 81.1ms\n",
      "72:\tlearn: 365.1812410\ttotal: 211ms\tremaining: 78ms\n",
      "73:\tlearn: 364.2255014\ttotal: 214ms\tremaining: 75ms\n",
      "74:\tlearn: 363.3063695\ttotal: 216ms\tremaining: 72ms\n",
      "75:\tlearn: 362.2949489\ttotal: 219ms\tremaining: 69ms\n",
      "76:\tlearn: 360.9188152\ttotal: 221ms\tremaining: 66.1ms\n",
      "77:\tlearn: 359.5841307\ttotal: 224ms\tremaining: 63.1ms\n",
      "78:\tlearn: 358.2198513\ttotal: 226ms\tremaining: 60.1ms\n",
      "79:\tlearn: 356.8312258\ttotal: 229ms\tremaining: 57.1ms\n",
      "80:\tlearn: 355.9743704\ttotal: 231ms\tremaining: 54.2ms\n",
      "81:\tlearn: 355.2810988\ttotal: 233ms\tremaining: 51.2ms\n",
      "82:\tlearn: 353.8332511\ttotal: 236ms\tremaining: 48.3ms\n",
      "83:\tlearn: 352.6473576\ttotal: 238ms\tremaining: 45.3ms\n",
      "84:\tlearn: 351.3250108\ttotal: 240ms\tremaining: 42.4ms\n",
      "85:\tlearn: 349.8266984\ttotal: 243ms\tremaining: 39.5ms\n",
      "86:\tlearn: 348.9100952\ttotal: 245ms\tremaining: 36.6ms\n",
      "87:\tlearn: 348.1354692\ttotal: 248ms\tremaining: 33.8ms\n",
      "88:\tlearn: 346.9359242\ttotal: 250ms\tremaining: 31ms\n",
      "89:\tlearn: 345.6868549\ttotal: 253ms\tremaining: 28.1ms\n",
      "90:\tlearn: 345.0237808\ttotal: 256ms\tremaining: 25.3ms\n",
      "91:\tlearn: 343.5167234\ttotal: 258ms\tremaining: 22.4ms\n",
      "92:\tlearn: 342.4707199\ttotal: 261ms\tremaining: 19.6ms\n",
      "93:\tlearn: 341.7361419\ttotal: 264ms\tremaining: 16.8ms\n",
      "94:\tlearn: 340.6190360\ttotal: 266ms\tremaining: 14ms\n",
      "95:\tlearn: 339.6536130\ttotal: 269ms\tremaining: 11.2ms\n",
      "96:\tlearn: 338.4210537\ttotal: 272ms\tremaining: 8.4ms\n",
      "97:\tlearn: 337.2658325\ttotal: 274ms\tremaining: 5.59ms\n",
      "98:\tlearn: 336.4966635\ttotal: 277ms\tremaining: 2.8ms\n",
      "99:\tlearn: 335.4265865\ttotal: 280ms\tremaining: 0us\n"
     ]
    },
    {
     "data": {
      "text/plain": [
       "{'depth': 8, 'iterations': 100, 'learning_rate': 0.1}"
      ]
     },
     "execution_count": 23,
     "metadata": {},
     "output_type": "execute_result"
    }
   ],
   "source": [
    "parameters = {\n",
    "    'depth': [6, 8, 10], \n",
    "    'learning_rate': [0.01, 0.05, 0.1],\n",
    "    'iterations': [30, 50, 100]\n",
    "}\n",
    "\n",
    "cat_model = CatBoostRegressor()\n",
    "\n",
    "grid = GridSearchCV(estimator = cat_model, param_grid = parameters, cv = 5, n_jobs = -1)\n",
    "grid.fit(X_houses_train, y_houses_train)\n",
    "grid.best_params_"
   ]
  },
  {
   "cell_type": "code",
   "execution_count": 25,
   "id": "d8268bff-390a-4512-8bc3-5793f0dd611e",
   "metadata": {},
   "outputs": [
    {
     "name": "stdout",
     "output_type": "stream",
     "text": [
      "MAE:  353.18422540473546\n",
      "MAPE:  7.692685708986827\n",
      "R2:  0.5304025572094506\n"
     ]
    }
   ],
   "source": [
    "model_cat = CatBoostRegressor(\n",
    "    depth = grid.best_params_.get('depth'),\n",
    "    learning_rate = grid.best_params_.get('learning_rate'),\n",
    "    iterations = grid.best_params_.get('iterations')\n",
    ")\n",
    "\n",
    "model_cat.fit(X_houses_train, y_houses_train, use_best_model=True, silent = True,\n",
    "             eval_set = (X_houses_test, y_houses_test))\n",
    "\n",
    "y_pred_cat2 = model_cat.predict(X_houses_test)\n",
    "mse_cat = mean_absolute_error(y_houses_test, y_pred_cat2)\n",
    "mape_cat = mean_absolute_percentage_error(y_houses_test, y_pred_cat2)\n",
    "\n",
    "\n",
    "print(\"MAE: \", mse_cat)\n",
    "print(\"MAPE: \", mape_cat)\n",
    "print(\"R2: \", r2_score(y_houses_test, y_pred_cat2))"
   ]
  },
  {
   "cell_type": "markdown",
   "id": "07a67513-c035-4c6d-887e-c287ee18fca4",
   "metadata": {
    "jp-MarkdownHeadingCollapsed": true
   },
   "source": [
    "### Apartments with Rating Metrics"
   ]
  },
  {
   "cell_type": "code",
   "execution_count": 26,
   "id": "ab468add-c385-434f-979b-e35cce816213",
   "metadata": {},
   "outputs": [
    {
     "name": "stdout",
     "output_type": "stream",
     "text": [
      "0:\tlearn: 494.3228836\ttotal: 13.8ms\tremaining: 1.36s\n",
      "1:\tlearn: 462.8167485\ttotal: 27.9ms\tremaining: 1.36s\n",
      "2:\tlearn: 432.7947413\ttotal: 40.9ms\tremaining: 1.32s\n",
      "3:\tlearn: 408.9728012\ttotal: 53.7ms\tremaining: 1.29s\n",
      "4:\tlearn: 386.1861195\ttotal: 66.9ms\tremaining: 1.27s\n",
      "5:\tlearn: 365.4988610\ttotal: 79.4ms\tremaining: 1.24s\n",
      "6:\tlearn: 347.4997706\ttotal: 93.5ms\tremaining: 1.24s\n",
      "7:\tlearn: 331.9011119\ttotal: 107ms\tremaining: 1.23s\n",
      "8:\tlearn: 318.7524334\ttotal: 119ms\tremaining: 1.21s\n",
      "9:\tlearn: 306.9186840\ttotal: 132ms\tremaining: 1.19s\n",
      "10:\tlearn: 295.9762626\ttotal: 145ms\tremaining: 1.17s\n",
      "11:\tlearn: 285.5617106\ttotal: 157ms\tremaining: 1.15s\n",
      "12:\tlearn: 277.6892339\ttotal: 170ms\tremaining: 1.14s\n",
      "13:\tlearn: 270.0856584\ttotal: 183ms\tremaining: 1.12s\n",
      "14:\tlearn: 263.6431716\ttotal: 195ms\tremaining: 1.11s\n",
      "15:\tlearn: 257.8488725\ttotal: 208ms\tremaining: 1.09s\n",
      "16:\tlearn: 252.1139984\ttotal: 221ms\tremaining: 1.08s\n",
      "17:\tlearn: 247.0592810\ttotal: 234ms\tremaining: 1.07s\n",
      "18:\tlearn: 243.1596460\ttotal: 247ms\tremaining: 1.05s\n",
      "19:\tlearn: 239.8531822\ttotal: 259ms\tremaining: 1.04s\n",
      "20:\tlearn: 236.5337289\ttotal: 272ms\tremaining: 1.02s\n",
      "21:\tlearn: 233.3754282\ttotal: 284ms\tremaining: 1.01s\n",
      "22:\tlearn: 230.4599556\ttotal: 296ms\tremaining: 993ms\n",
      "23:\tlearn: 228.3506458\ttotal: 309ms\tremaining: 977ms\n",
      "24:\tlearn: 226.4980268\ttotal: 320ms\tremaining: 960ms\n",
      "25:\tlearn: 223.9563102\ttotal: 331ms\tremaining: 941ms\n",
      "26:\tlearn: 221.9001624\ttotal: 342ms\tremaining: 924ms\n",
      "27:\tlearn: 220.1299218\ttotal: 353ms\tremaining: 908ms\n",
      "28:\tlearn: 218.2819834\ttotal: 365ms\tremaining: 893ms\n",
      "29:\tlearn: 217.0518802\ttotal: 377ms\tremaining: 879ms\n",
      "30:\tlearn: 215.4238629\ttotal: 388ms\tremaining: 863ms\n",
      "31:\tlearn: 213.6531225\ttotal: 399ms\tremaining: 848ms\n",
      "32:\tlearn: 212.5038387\ttotal: 410ms\tremaining: 832ms\n",
      "33:\tlearn: 211.0125842\ttotal: 421ms\tremaining: 817ms\n",
      "34:\tlearn: 209.5549812\ttotal: 432ms\tremaining: 801ms\n",
      "35:\tlearn: 208.3584361\ttotal: 443ms\tremaining: 788ms\n",
      "36:\tlearn: 207.0105250\ttotal: 455ms\tremaining: 774ms\n",
      "37:\tlearn: 206.1310478\ttotal: 465ms\tremaining: 759ms\n",
      "38:\tlearn: 205.3966082\ttotal: 476ms\tremaining: 744ms\n",
      "39:\tlearn: 204.5862944\ttotal: 486ms\tremaining: 729ms\n",
      "40:\tlearn: 203.7426380\ttotal: 497ms\tremaining: 715ms\n",
      "41:\tlearn: 202.8953930\ttotal: 508ms\tremaining: 702ms\n",
      "42:\tlearn: 202.0781620\ttotal: 520ms\tremaining: 689ms\n",
      "43:\tlearn: 201.4790801\ttotal: 531ms\tremaining: 675ms\n",
      "44:\tlearn: 200.8096140\ttotal: 542ms\tremaining: 662ms\n",
      "45:\tlearn: 199.9383658\ttotal: 552ms\tremaining: 649ms\n",
      "46:\tlearn: 199.2526065\ttotal: 563ms\tremaining: 635ms\n",
      "47:\tlearn: 198.6671657\ttotal: 574ms\tremaining: 622ms\n",
      "48:\tlearn: 198.1979092\ttotal: 585ms\tremaining: 609ms\n",
      "49:\tlearn: 197.4851056\ttotal: 596ms\tremaining: 596ms\n",
      "50:\tlearn: 196.7711784\ttotal: 607ms\tremaining: 583ms\n",
      "51:\tlearn: 196.2147316\ttotal: 618ms\tremaining: 570ms\n",
      "52:\tlearn: 195.8065040\ttotal: 629ms\tremaining: 557ms\n",
      "53:\tlearn: 195.2784593\ttotal: 640ms\tremaining: 545ms\n",
      "54:\tlearn: 194.8058734\ttotal: 652ms\tremaining: 533ms\n",
      "55:\tlearn: 194.1681978\ttotal: 663ms\tremaining: 521ms\n",
      "56:\tlearn: 194.0960373\ttotal: 664ms\tremaining: 501ms\n",
      "57:\tlearn: 193.3633283\ttotal: 675ms\tremaining: 489ms\n",
      "58:\tlearn: 192.7789321\ttotal: 687ms\tremaining: 477ms\n",
      "59:\tlearn: 192.4495248\ttotal: 699ms\tremaining: 466ms\n",
      "60:\tlearn: 191.9394677\ttotal: 713ms\tremaining: 456ms\n",
      "61:\tlearn: 191.4568660\ttotal: 725ms\tremaining: 444ms\n",
      "62:\tlearn: 191.1314927\ttotal: 737ms\tremaining: 433ms\n",
      "63:\tlearn: 190.5631441\ttotal: 747ms\tremaining: 420ms\n",
      "64:\tlearn: 190.0333397\ttotal: 758ms\tremaining: 408ms\n",
      "65:\tlearn: 189.4150540\ttotal: 769ms\tremaining: 396ms\n",
      "66:\tlearn: 189.0017651\ttotal: 780ms\tremaining: 384ms\n",
      "67:\tlearn: 188.3860184\ttotal: 791ms\tremaining: 372ms\n",
      "68:\tlearn: 187.9288642\ttotal: 802ms\tremaining: 360ms\n",
      "69:\tlearn: 187.5781615\ttotal: 813ms\tremaining: 348ms\n",
      "70:\tlearn: 187.1882587\ttotal: 824ms\tremaining: 337ms\n",
      "71:\tlearn: 186.8682625\ttotal: 835ms\tremaining: 325ms\n",
      "72:\tlearn: 186.3919543\ttotal: 846ms\tremaining: 313ms\n",
      "73:\tlearn: 185.9851981\ttotal: 857ms\tremaining: 301ms\n",
      "74:\tlearn: 185.5676796\ttotal: 868ms\tremaining: 289ms\n",
      "75:\tlearn: 185.2089931\ttotal: 879ms\tremaining: 278ms\n",
      "76:\tlearn: 184.7166471\ttotal: 890ms\tremaining: 266ms\n",
      "77:\tlearn: 184.2744612\ttotal: 901ms\tremaining: 254ms\n",
      "78:\tlearn: 183.7119899\ttotal: 912ms\tremaining: 242ms\n",
      "79:\tlearn: 183.2466046\ttotal: 923ms\tremaining: 231ms\n",
      "80:\tlearn: 182.9129859\ttotal: 934ms\tremaining: 219ms\n",
      "81:\tlearn: 182.3681345\ttotal: 944ms\tremaining: 207ms\n",
      "82:\tlearn: 182.0262293\ttotal: 955ms\tremaining: 196ms\n",
      "83:\tlearn: 181.3993765\ttotal: 966ms\tremaining: 184ms\n",
      "84:\tlearn: 180.9362051\ttotal: 978ms\tremaining: 173ms\n",
      "85:\tlearn: 180.4041477\ttotal: 989ms\tremaining: 161ms\n",
      "86:\tlearn: 180.0061721\ttotal: 1000ms\tremaining: 149ms\n",
      "87:\tlearn: 179.6857785\ttotal: 1.01s\tremaining: 138ms\n",
      "88:\tlearn: 179.0410804\ttotal: 1.02s\tremaining: 126ms\n",
      "89:\tlearn: 178.6987642\ttotal: 1.03s\tremaining: 115ms\n",
      "90:\tlearn: 178.3579120\ttotal: 1.04s\tremaining: 103ms\n",
      "91:\tlearn: 177.7939872\ttotal: 1.06s\tremaining: 91.9ms\n",
      "92:\tlearn: 177.5226251\ttotal: 1.07s\tremaining: 80.5ms\n",
      "93:\tlearn: 177.1242014\ttotal: 1.08s\tremaining: 69ms\n",
      "94:\tlearn: 176.6874259\ttotal: 1.09s\tremaining: 57.5ms\n",
      "95:\tlearn: 176.4395672\ttotal: 1.1s\tremaining: 46ms\n",
      "96:\tlearn: 176.1404916\ttotal: 1.11s\tremaining: 34.5ms\n",
      "97:\tlearn: 175.6123269\ttotal: 1.13s\tremaining: 23ms\n",
      "98:\tlearn: 175.1025154\ttotal: 1.14s\tremaining: 11.5ms\n",
      "99:\tlearn: 174.6637055\ttotal: 1.15s\tremaining: 0us\n"
     ]
    },
    {
     "data": {
      "text/plain": [
       "{'depth': 10, 'iterations': 100, 'learning_rate': 0.1}"
      ]
     },
     "execution_count": 26,
     "metadata": {},
     "output_type": "execute_result"
    }
   ],
   "source": [
    "parameters = {\n",
    "    'depth': [6, 8, 10], \n",
    "    'learning_rate': [0.01, 0.05, 0.1],\n",
    "    'iterations': [30, 50, 100]\n",
    "}\n",
    "\n",
    "cat_model = CatBoostRegressor()\n",
    "\n",
    "grid = GridSearchCV(estimator = cat_model, param_grid = parameters, cv = 5, n_jobs = -1)\n",
    "grid.fit(X_apartments_rating_train, y_apartments_rating_train)\n",
    "grid.best_params_"
   ]
  },
  {
   "cell_type": "code",
   "execution_count": 27,
   "id": "08d39263-7faf-40cf-91ac-002b473760fb",
   "metadata": {},
   "outputs": [
    {
     "name": "stdout",
     "output_type": "stream",
     "text": [
      "MAE:  135.3236436295823\n",
      "MAPE:  0.17915927145609828\n",
      "R2:  0.8410783979204166\n"
     ]
    }
   ],
   "source": [
    "model_cat = CatBoostRegressor(\n",
    "    depth = grid.best_params_.get('depth'),\n",
    "    learning_rate = grid.best_params_.get('learning_rate'),\n",
    "    iterations = grid.best_params_.get('iterations')\n",
    ")\n",
    "\n",
    "model_cat.fit(X_apartments_rating_train, y_apartments_rating_train, use_best_model=True, silent = True,\n",
    "             eval_set = (X_apartments_rating_test, y_apartments_rating_test))\n",
    "\n",
    "y_pred_cat3 = model_cat.predict(X_apartments_rating_test)\n",
    "mse_cat = mean_absolute_error(y_apartments_rating_test, y_pred_cat3)\n",
    "mape_cat = mean_absolute_percentage_error(y_apartments_rating_test, y_pred_cat3)\n",
    "\n",
    "\n",
    "print(\"MAE: \", mse_cat)\n",
    "print(\"MAPE: \", mape_cat)\n",
    "print(\"R2: \", r2_score(y_apartments_rating_test, y_pred_cat3))"
   ]
  },
  {
   "cell_type": "markdown",
   "id": "610a5203-dafb-493f-9606-6c41e003045e",
   "metadata": {
    "jp-MarkdownHeadingCollapsed": true
   },
   "source": [
    "### Houses with Rating Metrics"
   ]
  },
  {
   "cell_type": "code",
   "execution_count": 28,
   "id": "dc341a42-6bd4-46cc-9a59-88433e60aaef",
   "metadata": {},
   "outputs": [
    {
     "name": "stdout",
     "output_type": "stream",
     "text": [
      "0:\tlearn: 753.2802304\ttotal: 1.43ms\tremaining: 142ms\n",
      "1:\tlearn: 729.5642818\ttotal: 2.42ms\tremaining: 119ms\n",
      "2:\tlearn: 706.7108927\ttotal: 3.26ms\tremaining: 105ms\n",
      "3:\tlearn: 685.6204329\ttotal: 4.07ms\tremaining: 97.8ms\n",
      "4:\tlearn: 666.6453411\ttotal: 4.86ms\tremaining: 92.4ms\n",
      "5:\tlearn: 649.4867490\ttotal: 5.63ms\tremaining: 88.3ms\n",
      "6:\tlearn: 635.7831181\ttotal: 6.49ms\tremaining: 86.2ms\n",
      "7:\tlearn: 620.0638013\ttotal: 7.48ms\tremaining: 86ms\n",
      "8:\tlearn: 607.5706216\ttotal: 8.37ms\tremaining: 84.6ms\n",
      "9:\tlearn: 596.5669000\ttotal: 9.17ms\tremaining: 82.5ms\n",
      "10:\tlearn: 584.1028261\ttotal: 9.95ms\tremaining: 80.5ms\n",
      "11:\tlearn: 570.7596431\ttotal: 10.8ms\tremaining: 79.4ms\n",
      "12:\tlearn: 559.2769197\ttotal: 11.6ms\tremaining: 77.7ms\n",
      "13:\tlearn: 551.3152100\ttotal: 12.4ms\tremaining: 76.2ms\n",
      "14:\tlearn: 544.0404699\ttotal: 13.2ms\tremaining: 74.5ms\n",
      "15:\tlearn: 534.8112963\ttotal: 13.9ms\tremaining: 73.1ms\n",
      "16:\tlearn: 527.7550606\ttotal: 14.8ms\tremaining: 72.3ms\n",
      "17:\tlearn: 519.9115678\ttotal: 15.7ms\tremaining: 71.7ms\n",
      "18:\tlearn: 513.9825293\ttotal: 16.6ms\tremaining: 70.9ms\n",
      "19:\tlearn: 509.5441285\ttotal: 17.4ms\tremaining: 69.7ms\n",
      "20:\tlearn: 503.6271497\ttotal: 18.3ms\tremaining: 68.9ms\n",
      "21:\tlearn: 499.1299724\ttotal: 19.1ms\tremaining: 67.8ms\n",
      "22:\tlearn: 493.7176905\ttotal: 19.9ms\tremaining: 66.6ms\n",
      "23:\tlearn: 488.0671274\ttotal: 20.7ms\tremaining: 65.5ms\n",
      "24:\tlearn: 482.8562706\ttotal: 21.4ms\tremaining: 64.3ms\n",
      "25:\tlearn: 478.0517818\ttotal: 22.2ms\tremaining: 63.3ms\n",
      "26:\tlearn: 470.7090508\ttotal: 23ms\tremaining: 62.2ms\n",
      "27:\tlearn: 465.9190636\ttotal: 23.8ms\tremaining: 61.1ms\n",
      "28:\tlearn: 461.6957407\ttotal: 24.6ms\tremaining: 60.1ms\n",
      "29:\tlearn: 457.7529891\ttotal: 25.4ms\tremaining: 59.2ms\n",
      "30:\tlearn: 454.1053135\ttotal: 26.3ms\tremaining: 58.4ms\n",
      "31:\tlearn: 451.1625190\ttotal: 27.1ms\tremaining: 57.5ms\n",
      "32:\tlearn: 447.0219785\ttotal: 27.9ms\tremaining: 56.6ms\n",
      "33:\tlearn: 443.8230585\ttotal: 28.6ms\tremaining: 55.6ms\n",
      "34:\tlearn: 441.7621678\ttotal: 29.4ms\tremaining: 54.7ms\n",
      "35:\tlearn: 439.0818828\ttotal: 30.2ms\tremaining: 53.7ms\n",
      "36:\tlearn: 436.4898790\ttotal: 31ms\tremaining: 52.7ms\n",
      "37:\tlearn: 432.1823908\ttotal: 31.8ms\tremaining: 51.8ms\n",
      "38:\tlearn: 429.0052658\ttotal: 32.5ms\tremaining: 50.9ms\n",
      "39:\tlearn: 426.9127398\ttotal: 33.4ms\tremaining: 50ms\n",
      "40:\tlearn: 424.3392144\ttotal: 34.3ms\tremaining: 49.3ms\n",
      "41:\tlearn: 420.5150514\ttotal: 35.2ms\tremaining: 48.6ms\n",
      "42:\tlearn: 417.7937762\ttotal: 36ms\tremaining: 47.7ms\n",
      "43:\tlearn: 415.2910642\ttotal: 36.7ms\tremaining: 46.8ms\n",
      "44:\tlearn: 412.7727452\ttotal: 37.5ms\tremaining: 45.9ms\n",
      "45:\tlearn: 410.0948411\ttotal: 38.3ms\tremaining: 45ms\n",
      "46:\tlearn: 408.7406282\ttotal: 39.1ms\tremaining: 44.1ms\n",
      "47:\tlearn: 405.8218738\ttotal: 39.9ms\tremaining: 43.2ms\n",
      "48:\tlearn: 401.8184941\ttotal: 40.7ms\tremaining: 42.4ms\n",
      "49:\tlearn: 399.1421836\ttotal: 41.5ms\tremaining: 41.5ms\n",
      "50:\tlearn: 396.1406868\ttotal: 42.3ms\tremaining: 40.7ms\n",
      "51:\tlearn: 393.5909532\ttotal: 43.1ms\tremaining: 39.8ms\n",
      "52:\tlearn: 391.1685733\ttotal: 43.8ms\tremaining: 38.9ms\n",
      "53:\tlearn: 389.5739209\ttotal: 44.6ms\tremaining: 38ms\n",
      "54:\tlearn: 388.3315564\ttotal: 45.4ms\tremaining: 37.2ms\n",
      "55:\tlearn: 385.2986988\ttotal: 46.2ms\tremaining: 36.3ms\n",
      "56:\tlearn: 384.0863883\ttotal: 47ms\tremaining: 35.5ms\n",
      "57:\tlearn: 380.8551413\ttotal: 47.8ms\tremaining: 34.6ms\n",
      "58:\tlearn: 379.0280007\ttotal: 48.6ms\tremaining: 33.7ms\n",
      "59:\tlearn: 377.0997248\ttotal: 49.4ms\tremaining: 32.9ms\n",
      "60:\tlearn: 374.8655308\ttotal: 50.2ms\tremaining: 32.1ms\n",
      "61:\tlearn: 372.3786330\ttotal: 51ms\tremaining: 31.2ms\n",
      "62:\tlearn: 371.2908020\ttotal: 51.7ms\tremaining: 30.4ms\n",
      "63:\tlearn: 369.8360868\ttotal: 52.5ms\tremaining: 29.5ms\n",
      "64:\tlearn: 368.0914662\ttotal: 53.4ms\tremaining: 28.7ms\n",
      "65:\tlearn: 366.6025376\ttotal: 54.2ms\tremaining: 27.9ms\n",
      "66:\tlearn: 365.5041878\ttotal: 55ms\tremaining: 27.1ms\n",
      "67:\tlearn: 363.8223451\ttotal: 55.8ms\tremaining: 26.3ms\n",
      "68:\tlearn: 362.9481961\ttotal: 56.8ms\tremaining: 25.5ms\n",
      "69:\tlearn: 361.2519433\ttotal: 57.5ms\tremaining: 24.7ms\n",
      "70:\tlearn: 358.8426639\ttotal: 58.3ms\tremaining: 23.8ms\n",
      "71:\tlearn: 356.4659459\ttotal: 59.1ms\tremaining: 23ms\n",
      "72:\tlearn: 355.6135649\ttotal: 59.9ms\tremaining: 22.1ms\n",
      "73:\tlearn: 353.7927730\ttotal: 60.7ms\tremaining: 21.3ms\n",
      "74:\tlearn: 352.5586408\ttotal: 61.5ms\tremaining: 20.5ms\n",
      "75:\tlearn: 351.4664167\ttotal: 62.4ms\tremaining: 19.7ms\n",
      "76:\tlearn: 350.3952074\ttotal: 63.3ms\tremaining: 18.9ms\n",
      "77:\tlearn: 349.1530726\ttotal: 64.2ms\tremaining: 18.1ms\n",
      "78:\tlearn: 346.9731346\ttotal: 65.1ms\tremaining: 17.3ms\n",
      "79:\tlearn: 344.1864027\ttotal: 65.9ms\tremaining: 16.5ms\n",
      "80:\tlearn: 342.7095015\ttotal: 66.7ms\tremaining: 15.6ms\n",
      "81:\tlearn: 340.9938825\ttotal: 67.5ms\tremaining: 14.8ms\n",
      "82:\tlearn: 340.1842359\ttotal: 68.2ms\tremaining: 14ms\n",
      "83:\tlearn: 339.4027927\ttotal: 69ms\tremaining: 13.2ms\n",
      "84:\tlearn: 337.6582436\ttotal: 69.9ms\tremaining: 12.3ms\n",
      "85:\tlearn: 336.9744894\ttotal: 70.7ms\tremaining: 11.5ms\n",
      "86:\tlearn: 334.7875235\ttotal: 71.4ms\tremaining: 10.7ms\n",
      "87:\tlearn: 332.6435509\ttotal: 72.3ms\tremaining: 9.85ms\n",
      "88:\tlearn: 331.6096109\ttotal: 73ms\tremaining: 9.03ms\n",
      "89:\tlearn: 329.6643641\ttotal: 73.8ms\tremaining: 8.2ms\n",
      "90:\tlearn: 327.6629340\ttotal: 74.6ms\tremaining: 7.38ms\n",
      "91:\tlearn: 326.0502074\ttotal: 75.4ms\tremaining: 6.56ms\n",
      "92:\tlearn: 323.7309766\ttotal: 76.3ms\tremaining: 5.74ms\n",
      "93:\tlearn: 323.0822086\ttotal: 77.1ms\tremaining: 4.92ms\n",
      "94:\tlearn: 321.3853497\ttotal: 77.9ms\tremaining: 4.1ms\n",
      "95:\tlearn: 319.4054839\ttotal: 78.7ms\tremaining: 3.28ms\n",
      "96:\tlearn: 318.3314040\ttotal: 79.5ms\tremaining: 2.46ms\n",
      "97:\tlearn: 317.9941675\ttotal: 80.4ms\tremaining: 1.64ms\n",
      "98:\tlearn: 317.2141957\ttotal: 81.3ms\tremaining: 820us\n",
      "99:\tlearn: 316.5536763\ttotal: 82.1ms\tremaining: 0us\n"
     ]
    },
    {
     "data": {
      "text/plain": [
       "{'depth': 6, 'iterations': 100, 'learning_rate': 0.1}"
      ]
     },
     "execution_count": 28,
     "metadata": {},
     "output_type": "execute_result"
    }
   ],
   "source": [
    "parameters = {\n",
    "    'depth': [6, 8, 10], \n",
    "    'learning_rate': [0.01, 0.05, 0.1],\n",
    "    'iterations': [30, 50, 100]\n",
    "}\n",
    "\n",
    "cat_model = CatBoostRegressor()\n",
    "\n",
    "grid = GridSearchCV(estimator = cat_model, param_grid = parameters, cv = 5, n_jobs = -1)\n",
    "grid.fit(X_houses_rating_train, y_houses_rating_train)\n",
    "grid.best_params_"
   ]
  },
  {
   "cell_type": "code",
   "execution_count": 29,
   "id": "dcbe0323-68a4-4f15-80df-41b93ab08945",
   "metadata": {},
   "outputs": [
    {
     "name": "stdout",
     "output_type": "stream",
     "text": [
      "MAE:  375.8940954798817\n",
      "MAPE:  0.22097044499163812\n",
      "R2:  0.5795544603248852\n"
     ]
    }
   ],
   "source": [
    "model_cat = CatBoostRegressor(\n",
    "    depth = grid.best_params_.get('depth'),\n",
    "    learning_rate = grid.best_params_.get('learning_rate'),\n",
    "    iterations = grid.best_params_.get('iterations')\n",
    ")\n",
    "\n",
    "model_cat.fit(X_houses_rating_train, y_houses_rating_train, use_best_model=True, silent = True,\n",
    "             eval_set = (X_houses_rating_test, y_houses_rating_test))\n",
    "\n",
    "y_pred_cat4 = model_cat.predict(X_houses_rating_test)\n",
    "mse_cat = mean_absolute_error(y_houses_rating_test, y_pred_cat4)\n",
    "mape_cat = mean_absolute_percentage_error(y_houses_rating_test, y_pred_cat4)\n",
    "\n",
    "\n",
    "print(\"MAE: \", mse_cat)\n",
    "print(\"MAPE: \", mape_cat)\n",
    "print(\"R2: \", r2_score(y_houses_rating_test, y_pred_cat4))"
   ]
  },
  {
   "cell_type": "markdown",
   "id": "2a6157d3-ea3d-432b-84cc-33fd1fcec719",
   "metadata": {
    "jp-MarkdownHeadingCollapsed": true
   },
   "source": [
    "## Random Forest "
   ]
  },
  {
   "cell_type": "markdown",
   "id": "19a84b2e-4900-4129-9445-903d63555dc3",
   "metadata": {
    "jp-MarkdownHeadingCollapsed": true
   },
   "source": [
    "### Apartments"
   ]
  },
  {
   "cell_type": "code",
   "execution_count": 30,
   "id": "02146e3b-4d35-4934-890b-cb8ef0174076",
   "metadata": {},
   "outputs": [
    {
     "name": "stdout",
     "output_type": "stream",
     "text": [
      "Fitting 5 folds for each of 10 candidates, totalling 50 fits\n",
      "MAE:  145.29198134407383\n",
      "MAPE:  2.4331975001579087\n",
      "R2:  0.7525276344817698\n"
     ]
    }
   ],
   "source": [
    "parameters = {\n",
    " 'min_samples_split': [2, 5, 10, 15, 100],\n",
    " 'min_samples_leaf': [1, 2, 5, 10],\n",
    " 'n_estimators': [100, 500, 1000]\n",
    "}\n",
    "\n",
    "rf = RandomForestRegressor()\n",
    "\n",
    "rf_tuning2 = RandomizedSearchCV(rf, param_distributions=parameters,\n",
    "                               scoring='neg_mean_squared_error',\n",
    "                         cv=5, verbose = True, n_jobs = -1)\n",
    "\n",
    "rf_tuning2.fit(X_apartments_train, y_apartments_train)\n",
    "\n",
    "optimal_rf_model2 = RandomForestRegressor(n_estimators = rf_tuning2.best_params_.get(\"n_estimators\"), \n",
    "                                         min_samples_leaf = rf_tuning2.best_params_.get(\"min_samples_leaf\"),\n",
    "                                         min_samples_split = rf_tuning2.best_params_.get(\"min_samples_split\"),\n",
    "                                         n_jobs = -1,\n",
    "                                        )\n",
    "\n",
    "\n",
    "optimal_rf_model2.fit(X_apartments_train, y_apartments_train)\n",
    "rf_pred2 = optimal_rf_model2.predict(X_apartments_test)\n",
    "\n",
    "mae_rf2 = mean_absolute_error(y_apartments_test, rf_pred2)\n",
    "mape_rf2 = mean_absolute_percentage_error(y_apartments_test, rf_pred2)\n",
    "\n",
    "print(\"MAE: \", mae_rf2)\n",
    "print(\"MAPE: \", mape_rf2)\n",
    "print(\"R2: \", r2_score(y_apartments_test, rf_pred2))"
   ]
  },
  {
   "cell_type": "markdown",
   "id": "45c8ed14-6dc9-492d-88e4-1135e06b3bf4",
   "metadata": {
    "jp-MarkdownHeadingCollapsed": true
   },
   "source": [
    "### Houses"
   ]
  },
  {
   "cell_type": "code",
   "execution_count": 32,
   "id": "dcf0f8c7-32c3-4b28-aadf-5ffa528544ff",
   "metadata": {},
   "outputs": [
    {
     "name": "stdout",
     "output_type": "stream",
     "text": [
      "Fitting 5 folds for each of 10 candidates, totalling 50 fits\n",
      "MAE:  341.5301029077592\n",
      "MAPE:  7.7129971397912325\n",
      "R2:  0.553141450826669\n"
     ]
    }
   ],
   "source": [
    "parameters = {\n",
    " 'min_samples_split': [2, 5, 10, 15, 100],\n",
    " 'min_samples_leaf': [1, 2, 5, 10],\n",
    " 'n_estimators': [100, 500, 1000]\n",
    "}\n",
    "\n",
    "rf = RandomForestRegressor()\n",
    "\n",
    "rf_tuning = RandomizedSearchCV(rf, param_distributions = parameters,\n",
    "                               scoring='neg_mean_squared_error',\n",
    "                         cv=5, verbose = True, n_jobs = -1)\n",
    "\n",
    "rf_tuning.fit(X_houses_train, y_houses_train)\n",
    "\n",
    "optimal_rf_model = RandomForestRegressor(n_estimators = rf_tuning.best_params_.get(\"n_estimators\"), \n",
    "                                         min_samples_leaf = rf_tuning.best_params_.get(\"min_samples_leaf\"),\n",
    "                                         min_samples_split = rf_tuning.best_params_.get(\"min_samples_split\"),\n",
    "                                         n_jobs = -1,\n",
    "                                        )\n",
    "\n",
    "\n",
    "optimal_rf_model.fit(X_houses_train, y_houses_train)\n",
    "rf_pred = optimal_rf_model.predict(X_houses_test)\n",
    "\n",
    "mae_rf = mean_absolute_error(y_houses_test, rf_pred)\n",
    "mape_rf = mean_absolute_percentage_error(y_houses_test, rf_pred)\n",
    "\n",
    "print(\"MAE: \", mae_rf)\n",
    "print(\"MAPE: \", mape_rf)\n",
    "print(\"R2: \", r2_score(y_houses_test, rf_pred))"
   ]
  },
  {
   "cell_type": "markdown",
   "id": "dd985184-9318-447a-8ad9-6258ade64452",
   "metadata": {
    "jp-MarkdownHeadingCollapsed": true
   },
   "source": [
    "### Apartments with Rating Metrics"
   ]
  },
  {
   "cell_type": "code",
   "execution_count": 33,
   "id": "a0976708-dc02-45b3-afb4-cf834cac6548",
   "metadata": {},
   "outputs": [
    {
     "name": "stdout",
     "output_type": "stream",
     "text": [
      "Fitting 5 folds for each of 10 candidates, totalling 50 fits\n",
      "MAE:  124.75378115223832\n",
      "MAPE:  0.16208046827499786\n",
      "R2:  0.8509591261261177\n"
     ]
    }
   ],
   "source": [
    "parameters = {\n",
    " 'min_samples_split': [2, 5, 10, 15, 100],\n",
    " 'min_samples_leaf': [1, 2, 5, 10],\n",
    " 'n_estimators': [100, 500, 1000]\n",
    "}\n",
    "\n",
    "rf = RandomForestRegressor()\n",
    "\n",
    "rf_tuning3 = RandomizedSearchCV(rf, param_distributions=parameters,\n",
    "                               scoring='neg_mean_squared_error',\n",
    "                         cv=5, verbose = True, n_jobs = -1)\n",
    "\n",
    "rf_tuning3.fit(X_apartments_rating_train, y_apartments_rating_train)\n",
    "\n",
    "optimal_rf_model3 = RandomForestRegressor(n_estimators = rf_tuning3.best_params_.get(\"n_estimators\"), \n",
    "                                         min_samples_leaf = rf_tuning3.best_params_.get(\"min_samples_leaf\"),\n",
    "                                         min_samples_split = rf_tuning3.best_params_.get(\"min_samples_split\"),\n",
    "                                         n_jobs = -1,\n",
    "                                        )\n",
    "\n",
    "\n",
    "optimal_rf_model3.fit(X_apartments_rating_train, y_apartments_rating_train)\n",
    "rf_pred3 = optimal_rf_model3.predict(X_apartments_rating_test)\n",
    "\n",
    "mae_rf3 = mean_absolute_error(y_apartments_rating_test, rf_pred3)\n",
    "mape_rf3 = mean_absolute_percentage_error(y_apartments_rating_test, rf_pred3)\n",
    "\n",
    "print(\"MAE: \", mae_rf3)\n",
    "print(\"MAPE: \", mape_rf3)\n",
    "print(\"R2: \", r2_score(y_apartments_rating_test, rf_pred3))"
   ]
  },
  {
   "cell_type": "markdown",
   "id": "2a985db5-4276-4572-8bf7-662b4f8f39df",
   "metadata": {
    "jp-MarkdownHeadingCollapsed": true
   },
   "source": [
    "### Houses with Rating Metrics"
   ]
  },
  {
   "cell_type": "code",
   "execution_count": 34,
   "id": "04657af4-e721-498f-ae2f-bd9494adaa0c",
   "metadata": {},
   "outputs": [
    {
     "name": "stdout",
     "output_type": "stream",
     "text": [
      "Fitting 5 folds for each of 10 candidates, totalling 50 fits\n",
      "MAE:  430.399709050009\n",
      "MAPE:  0.2514243582393667\n",
      "R2:  0.4327615714737044\n"
     ]
    }
   ],
   "source": [
    "parameters = {\n",
    " 'min_samples_split': [2, 5, 10, 15, 100],\n",
    " 'min_samples_leaf': [1, 2, 5, 10],\n",
    " 'n_estimators': [100, 500, 1000]\n",
    "}\n",
    "\n",
    "rf = RandomForestRegressor()\n",
    "\n",
    "rf_tuning4 = RandomizedSearchCV(rf, param_distributions=parameters,\n",
    "                               scoring='neg_mean_squared_error',\n",
    "                         cv=5, verbose = True, n_jobs = -1)\n",
    "\n",
    "rf_tuning4.fit(X_houses_rating_train, y_houses_rating_train)\n",
    "\n",
    "optimal_rf_model4 = RandomForestRegressor(n_estimators = rf_tuning4.best_params_.get(\"n_estimators\"), \n",
    "                                         min_samples_leaf = rf_tuning4.best_params_.get(\"min_samples_leaf\"),\n",
    "                                         min_samples_split = rf_tuning4.best_params_.get(\"min_samples_split\"),\n",
    "                                         n_jobs = -1,\n",
    "                                        )\n",
    "\n",
    "\n",
    "optimal_rf_model4.fit(X_houses_rating_train, y_houses_rating_train)\n",
    "rf_pred4 = optimal_rf_model4.predict(X_houses_rating_test)\n",
    "\n",
    "mae_rf4 = mean_absolute_error(y_houses_rating_test, rf_pred4)\n",
    "mape_rf4 = mean_absolute_percentage_error(y_houses_rating_test, rf_pred4)\n",
    "\n",
    "print(\"MAE: \", mae_rf4)\n",
    "print(\"MAPE: \", mape_rf4)\n",
    "print(\"R2: \", r2_score(y_houses_rating_test, rf_pred4))"
   ]
  },
  {
   "cell_type": "markdown",
   "id": "5ff57bc0-ca1a-4acc-b25f-babb34c13990",
   "metadata": {
    "jp-MarkdownHeadingCollapsed": true
   },
   "source": [
    "## Lasso for Feature Importance"
   ]
  },
  {
   "cell_type": "code",
   "execution_count": 39,
   "id": "aa2e7d1c-43be-4103-a5b2-162558aac0da",
   "metadata": {},
   "outputs": [
    {
     "name": "stdout",
     "output_type": "stream",
     "text": [
      "R2: \n",
      " 0.43348513125448895\n",
      "MAE: 243.000\n",
      "MAPE: 2.403\n",
      "----------------------------------------------------\n",
      "Important features with coefficient greater than 0.01:\n",
      "Interior Size     10.901449\n",
      "Room Count        62.994718\n",
      "Latitude          70.967395\n",
      "Longitude          1.363971\n",
      "Floor Level        9.987675\n",
      "Balcony           33.689833\n",
      "Storage           76.188263\n",
      "Elevator         228.582425\n",
      "dtype: float64\n"
     ]
    }
   ],
   "source": [
    "cv = RepeatedKFold(n_splits=5, n_repeats=3, random_state=50)\n",
    "model_lasso = LassoCV(alphas=np.arange(0, 1, 0.01), cv=cv, n_jobs=-1)\n",
    "model_lasso.fit(X_apartments_train, y_apartments_train)\n",
    "y_pred = model_lasso.predict(X_apartments_test)\n",
    "\n",
    "print('R2: \\n', r2_score(y_apartments_test, y_pred))\n",
    "print('MAE: %.3f' % mean_absolute_error(y_apartments_test, y_pred))\n",
    "print('MAPE: %.3f' % mean_absolute_percentage_error(y_apartments_test, y_pred))\n",
    "\n",
    "feature_titles = X_apartments_train.columns\n",
    "\n",
    "features = pd.Series(np.abs(model_lasso.coef_[0::]).flatten(), index = feature_titles)\n",
    "important = features[features > 0.01]\n",
    "print('----------------------------------------------------')\n",
    "print(\"Important features with coefficient greater than 0.01:\")\n",
    "print(important)"
   ]
  },
  {
   "cell_type": "markdown",
   "id": "018a9f71-ff91-4712-be63-1f027cabb716",
   "metadata": {},
   "source": [
    "# Plots"
   ]
  },
  {
   "cell_type": "markdown",
   "id": "d14a96a0-aeec-40d2-8b8b-ed5dbb52b408",
   "metadata": {},
   "source": [
    "## Best Model Apartments (with Rating Metrics)"
   ]
  },
  {
   "cell_type": "code",
   "execution_count": 41,
   "id": "186c30fb-9665-4ddc-ab29-06cd9701417c",
   "metadata": {},
   "outputs": [
    {
     "data": {
      "image/png": "[encoded data removed]",
      "text/plain": [
       "<Figure size 640x480 with 1 Axes>"
      ]
     },
     "metadata": {},
     "output_type": "display_data"
    }
   ],
   "source": [
    "# Plot Actual VS Prediction\n",
    "\n",
    "x_ax = range(len(y_apartments_rating_test))\n",
    "plt.plot(x_ax, y_apartments_rating_test, label=\"Original\")\n",
    "plt.plot(x_ax, y_pred_xgb3, label=\"Prediction\")\n",
    "plt.title(\"Real Estate Test and Predicted Data\")\n",
    "plt.legend()\n",
    "plt.show()"
   ]
  },
  {
   "cell_type": "code",
   "execution_count": 42,
   "id": "c4d20867-dcd3-49ef-9214-81e0fca905f0",
   "metadata": {},
   "outputs": [
    {
     "data": {
      "image/png": "[encoded data removed]",
      "text/plain": [
       "<Figure size 640x480 with 1 Axes>"
      ]
     },
     "metadata": {},
     "output_type": "display_data"
    }
   ],
   "source": [
    "# Plot Error Distribution\n",
    "\n",
    "dfff = pd.DataFrame()\n",
    "dfff['original'] = y_apartments_rating_test\n",
    "\n",
    "dfff['predicted'] = y_pred_xgb3\n",
    "dfff['difference'] = dfff['original'] - dfff['predicted']\n",
    "plt.hist(dfff['difference'], bins=50)\n",
    "plt.show()"
   ]
  },
  {
   "cell_type": "markdown",
   "id": "8b2488b9-babd-4819-8e86-b162b26b7967",
   "metadata": {},
   "source": [
    "## Best Model Houses (without Rating Metrics)"
   ]
  },
  {
   "cell_type": "code",
   "execution_count": 44,
   "id": "2403c42a-3756-4bc0-ac30-537366bacc2b",
   "metadata": {},
   "outputs": [
    {
     "data": {
      "image/png": "[encoded data removed]",
      "text/plain": [
       "<Figure size 640x480 with 1 Axes>"
      ]
     },
     "metadata": {},
     "output_type": "display_data"
    }
   ],
   "source": [
    "# Plot Actual VS Prediction\n",
    "\n",
    "x_ax = range(len(y_houses_test))\n",
    "plt.plot(x_ax, y_houses_test, label=\"Original\")\n",
    "plt.plot(x_ax, y_pred_xgb2, label=\"Prediction\")\n",
    "plt.title(\"Real Estate Test and Predicted Data\")\n",
    "plt.legend()\n",
    "plt.show()"
   ]
  },
  {
   "cell_type": "code",
   "execution_count": 47,
   "id": "d431d121-9a8e-4879-81f3-2539a442cf05",
   "metadata": {},
   "outputs": [
    {
     "data": {
      "image/png": "[encoded data removed]",
      "text/plain": [
       "<Figure size 640x480 with 1 Axes>"
      ]
     },
     "metadata": {},
     "output_type": "display_data"
    }
   ],
   "source": [
    "# Plot Error Distribution\n",
    "\n",
    "dfff = pd.DataFrame()\n",
    "dfff['original'] = y_houses_test\n",
    "\n",
    "dfff['predicted'] = y_pred_xgb2\n",
    "dfff['difference'] = dfff['original'] - dfff['predicted']\n",
    "plt.hist(dfff['difference'], bins=50)\n",
    "plt.show()"
   ]
  },
  {
   "cell_type": "markdown",
   "id": "1e846cff-c7e6-45c1-b8ea-68742fe7a874",
   "metadata": {},
   "source": [
    "# Save & Store"
   ]
  },
  {
   "cell_type": "code",
   "execution_count": 48,
   "id": "10290b77-4582-44cd-a674-af61801c3291",
   "metadata": {},
   "outputs": [
    {
     "data": {
      "text/plain": [
       "['best_model_houses.sav']"
      ]
     },
     "execution_count": 48,
     "metadata": {},
     "output_type": "execute_result"
    }
   ],
   "source": [
    "# Best partments model trained on the dataset with rating metrics\n",
    "filename = 'best_model_apartments.sav'\n",
    "joblib.dump(xgb_model3, filename)\n",
    "\n",
    "# Best houses model trained on the regular dataset\n",
    "filename = 'best_model_houses.sav'\n",
    "joblib.dump(xgb_model2, filename)"
   ]
  },
  {
   "cell_type": "markdown",
   "id": "450b51fd-cb67-4e41-aee8-a99da9c9aa05",
   "metadata": {
    "jp-MarkdownHeadingCollapsed": true
   },
   "source": [
    "# Load & Test"
   ]
  },
  {
   "cell_type": "code",
   "execution_count": null,
   "id": "b2257273-a6cf-4811-b477-cb8d50fca8b0",
   "metadata": {},
   "outputs": [],
   "source": [
    "loaded_model = joblib.load('C:/Users/Aist/Desktop/AIST Projects/Best Model/best_model_apartments.sav')\n",
    "result = loaded_model.score(X_apartments_test, y_apartments_test)\n",
    "print(result)"
   ]
  }
 ],
 "metadata": {
  "kernelspec": {
   "display_name": "Python 3",
   "language": "python",
   "name": "python3"
  },
  "language_info": {
   "codemirror_mode": {
    "name": "ipython",
    "version": 3
   },
   "file_extension": ".py",
   "mimetype": "text/x-python",
   "name": "python",
   "nbconvert_exporter": "python",
   "pygments_lexer": "ipython3",
   "version": "3.7.6"
  }
 },
 "nbformat": 4,
 "nbformat_minor": 5
}
