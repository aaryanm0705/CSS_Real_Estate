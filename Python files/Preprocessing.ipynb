{
 "cells": [
  {
   "cell_type": "markdown",
   "id": "07bfe911",
   "metadata": {
    "ExecuteTime": {
     "end_time": "2021-06-07T11:34:34.497781Z",
     "start_time": "2021-06-07T11:34:34.485449Z"
    },
    "heading_collapsed": true,
    "jp-MarkdownHeadingCollapsed": true
   },
   "source": [
    "# Packages & Data"
   ]
  },
  {
   "cell_type": "code",
   "execution_count": 1,
   "id": "021dda7c",
   "metadata": {
    "ExecuteTime": {
     "end_time": "2021-07-06T08:20:22.591808Z",
     "start_time": "2021-07-06T08:20:19.660814Z"
    },
    "hidden": true
   },
   "outputs": [],
   "source": [
    "import pandas as pd\n",
    "from copy import deepcopy\n",
    "import geopy.distance\n",
    "from sklearn import metrics\n",
    "from iteration_utilities import deepflatten\n",
    "from tqdm import tqdm_notebook as tqdm\n",
    "import math\n",
    "from os.path import join\n",
    "from pandas import read_csv\n",
    "import numpy as np\n",
    "import matplotlib.pyplot as plt\n",
    "import seaborn as sns\n",
    "import itertools\n",
    "import pylab \n",
    "from numpy import percentile\n",
    "import joblib\n",
    "from numpy import mean\n",
    "from numpy import std\n",
    "from statistics import mean\n",
    "from sklearn.experimental import enable_iterative_imputer\n",
    "from sklearn.impute import IterativeImputer\n",
    "from sklearn.impute import SimpleImputer\n",
    "import warnings\n",
    "warnings.filterwarnings('ignore')"
   ]
  },
  {
   "cell_type": "code",
   "execution_count": 2,
   "id": "6790bb1d",
   "metadata": {
    "ExecuteTime": {
     "end_time": "2021-07-06T08:20:41.832093Z",
     "start_time": "2021-07-06T08:20:40.756687Z"
    },
    "hidden": true
   },
   "outputs": [],
   "source": [
    "# apartments kleineinzeigen doesn't have year constructed\n",
    "\n",
    "apartments_immonet = pd.read_excel(\"immonetApartments.xlsx\")\n",
    "houses_immonet = pd.read_excel(\"immonetHouses.xlsx\")\n",
    "apartments_kleineinzeigen = pd.read_excel(\"kleineinzeigenApartments.xlsx\")\n",
    "houses_kleineinzeigen = pd.read_excel(\"kleineinzeigenHouses.xlsx\")"
   ]
  },
  {
   "cell_type": "code",
   "execution_count": 3,
   "id": "264b263d-01fd-4f48-81bf-cbb4333c91c6",
   "metadata": {},
   "outputs": [],
   "source": [
    "apartments_immonet['Year Constructed'] = pd.to_numeric(apartments_immonet['Year Constructed'], errors='coerce').astype('Int64')\n",
    "houses_immonet['Year Constructed'] = pd.to_numeric(houses_immonet['Year Constructed'], errors='coerce').astype('Int64')\n",
    "houses_kleineinzeigen['Year Constructed'] = pd.to_numeric(houses_kleineinzeigen['Year Constructed'], errors='coerce').astype('Int64')\n",
    "\n",
    "apartments_immonet.drop(columns='Year Constructed', inplace=True)\n",
    "houses_immonet.drop(columns='Year Constructed', inplace=True)\n",
    "houses_kleineinzeigen.drop(columns='Year Constructed', inplace=True)"
   ]
  },
  {
   "cell_type": "markdown",
   "id": "a6bdb4e2",
   "metadata": {
    "ExecuteTime": {
     "end_time": "2021-06-07T11:37:36.382716Z",
     "start_time": "2021-06-07T11:37:35.114166Z"
    },
    "heading_collapsed": true
   },
   "source": [
    "# Preprocessing"
   ]
  },
  {
   "cell_type": "markdown",
   "id": "f7ec58fa-0f0d-4358-9ed6-9776bf3b813e",
   "metadata": {
    "jp-MarkdownHeadingCollapsed": true
   },
   "source": [
    "## Data Management"
   ]
  },
  {
   "cell_type": "code",
   "execution_count": 4,
   "id": "0aefe378-0534-440b-a367-9044fc5a9e67",
   "metadata": {},
   "outputs": [],
   "source": [
    "apartments_immonet['Floor Level'].loc[\n",
    "    apartments_immonet['Floor Level'].apply(lambda x: x > 99 if isinstance(x, float) else False)\n",
    "] = np.nan\n",
    "\n",
    "apartments_kleineinzeigen['Floor Level'].loc[\n",
    "    apartments_kleineinzeigen['Floor Level'].apply(lambda x: x > 99 if isinstance(x, float) else False)\n",
    "] = np.nan"
   ]
  },
  {
   "cell_type": "code",
   "execution_count": 5,
   "id": "cd943c3e-c4c9-4777-a53a-a8f6f7f5a771",
   "metadata": {},
   "outputs": [],
   "source": [
    "def zip_modifier(df):\n",
    "    new_vals = []\n",
    "    for row in df[\"Zip Code\"]:\n",
    "        if len(str(row)) < 5:\n",
    "            new_vals.append(row*100)\n",
    "        else:\n",
    "            new_vals.append(row*10)\n",
    "    df[\"Zip Code\"] = new_vals"
   ]
  },
  {
   "cell_type": "code",
   "execution_count": 7,
   "id": "bef57844-9a24-453b-9afb-f1baf2a6fe6d",
   "metadata": {},
   "outputs": [],
   "source": [
    "# Handle cases where zip has 4 digits instead of 5\n",
    "\n",
    "zip_modifier(apartments_immonet)\n",
    "zip_modifier(houses_immonet)\n",
    "# zip_modifier(apartments_engel)\n",
    "# zip_modifier(houses_engel)\n",
    "zip_modifier(apartments_kleineinzeigen)\n",
    "zip_modifier(houses_kleineinzeigen)"
   ]
  },
  {
   "cell_type": "markdown",
   "id": "0cb61d33",
   "metadata": {
    "heading_collapsed": true,
    "hidden": true,
    "jp-MarkdownHeadingCollapsed": true
   },
   "source": [
    "## Outlier Removal "
   ]
  },
  {
   "cell_type": "code",
   "execution_count": 8,
   "id": "11152a2b",
   "metadata": {
    "ExecuteTime": {
     "end_time": "2021-06-29T09:07:55.575982Z",
     "start_time": "2021-06-29T09:07:55.569845Z"
    },
    "hidden": true
   },
   "outputs": [],
   "source": [
    "flatten = lambda l: [item for sublist in l for item in sublist]"
   ]
  },
  {
   "cell_type": "code",
   "execution_count": 9,
   "id": "5920e5c5",
   "metadata": {
    "ExecuteTime": {
     "end_time": "2021-06-29T11:28:55.815109Z",
     "start_time": "2021-06-29T11:28:55.801131Z"
    },
    "hidden": true
   },
   "outputs": [],
   "source": [
    "def normalize_columnwise(data):\n",
    "    for i in data.columns:\n",
    "        data[i]=((data[i]-np.nanmin(data[i].values))/(np.nanmax(data[i].values)-np.nanmin(data[i].values)))\n",
    "    return data\n",
    "\n",
    "def sample_first_prows(data, perc=0.3):\n",
    "    return data.head(int(len(data)*(perc)))"
   ]
  },
  {
   "cell_type": "code",
   "execution_count": 10,
   "id": "9ffadd60",
   "metadata": {
    "ExecuteTime": {
     "end_time": "2021-07-06T08:21:21.363161Z",
     "start_time": "2021-07-06T08:20:44.742734Z"
    },
    "hidden": true
   },
   "outputs": [],
   "source": [
    "titles_apartments = list(set(apartments_immonet.drop(columns=['Link', 'Transportation Availability Rating', 'Basic Neccessities Rating', 'Longitude', 'Latitude', 'Floor Level', 'Elevator', 'Storage', 'Balcony', 'Zip Code'], axis=1).columns.tolist()))\n",
    "titles_houses = list(set(houses_immonet.drop(columns=['Link', 'House Type', 'Transportation Availability Rating', 'Basic Neccessities Rating', 'Longitude', 'Latitude', 'Parking', 'Terrace', 'Zip Code'], axis=1).columns.tolist()))\n",
    "\n",
    "# Outlier removal 95/5 quantiles\n",
    "def outlier_removal(df, titles):\n",
    "    outliers_info = []\n",
    "\n",
    "    for title in tqdm(titles):\n",
    "        # Handle NaN values when calculating percentiles\n",
    "        q10, q90 = np.nanpercentile(df[title].dropna(), 15), np.nanpercentile(df[title].dropna(), 85)\n",
    "        iqr = q90 - q10\n",
    "    \n",
    "        cut_off = iqr * 1.5\n",
    "        lower, upper = q10 - cut_off, q90 + cut_off\n",
    "    \n",
    "        # Handle NaN values when checking conditions for outliers\n",
    "        outliers_indices = df[df[title].isna() | (df[title] < lower) | (df[title] > upper)].index\n",
    "        outliers_info.append({'title': title, 'outliers_count': len(outliers_indices)})\n",
    "    \n",
    "        if len(outliers_indices) > 0:\n",
    "            print(f'Identified outliers for {title}: {len(outliers_indices)}')\n",
    "            df = df.loc[df.index.difference(outliers_indices)]#.reset_index(drop=True)\n",
    "\n",
    "    return df"
   ]
  },
  {
   "cell_type": "code",
   "execution_count": 11,
   "id": "a25b590d-9607-4d0c-ab4a-e1a499d88c53",
   "metadata": {},
   "outputs": [
    {
     "data": {
      "application/vnd.jupyter.widget-view+json": {
       "model_id": "4e56329f53914abe9b5bd8a5384fb874",
       "version_major": 2,
       "version_minor": 0
      },
      "text/plain": [
       "  0%|          | 0/3 [00:00<?, ?it/s]"
      ]
     },
     "metadata": {},
     "output_type": "display_data"
    },
    {
     "name": "stdout",
     "output_type": "stream",
     "text": [
      "Identified outliers for Room Count: 361\n",
      "Identified outliers for Interior Size: 137\n",
      "Identified outliers for Price: 145\n"
     ]
    }
   ],
   "source": [
    "apartments_immonet_no_outliers = outlier_removal(apartments_immonet, titles_apartments)"
   ]
  },
  {
   "cell_type": "code",
   "execution_count": 12,
   "id": "3306c920-602a-488c-82d9-64adc37d6bd7",
   "metadata": {},
   "outputs": [
    {
     "data": {
      "application/vnd.jupyter.widget-view+json": {
       "model_id": "43e8186da4bf4c56b56ca34795d1822a",
       "version_major": 2,
       "version_minor": 0
      },
      "text/plain": [
       "  0%|          | 0/3 [00:00<?, ?it/s]"
      ]
     },
     "metadata": {},
     "output_type": "display_data"
    },
    {
     "name": "stdout",
     "output_type": "stream",
     "text": [
      "Identified outliers for Room Count: 856\n",
      "Identified outliers for Interior Size: 108\n",
      "Identified outliers for Price: 555\n"
     ]
    }
   ],
   "source": [
    "apartments_kleineinzeigen_no_outliers = outlier_removal(apartments_kleineinzeigen, titles_apartments)"
   ]
  },
  {
   "cell_type": "code",
   "execution_count": 13,
   "id": "97a6400e-5653-4d4e-868d-2dd66348c1db",
   "metadata": {},
   "outputs": [
    {
     "data": {
      "application/vnd.jupyter.widget-view+json": {
       "model_id": "27b61d5367fb47c186da362548248e69",
       "version_major": 2,
       "version_minor": 0
      },
      "text/plain": [
       "  0%|          | 0/5 [00:00<?, ?it/s]"
      ]
     },
     "metadata": {},
     "output_type": "display_data"
    },
    {
     "name": "stdout",
     "output_type": "stream",
     "text": [
      "Identified outliers for Interior Size: 41\n",
      "Identified outliers for Price: 26\n",
      "Identified outliers for Floor Count: 16\n",
      "Identified outliers for Room Count: 11\n",
      "Identified outliers for Exterior Size: 161\n"
     ]
    }
   ],
   "source": [
    "houses_immonet_no_outliers = outlier_removal(houses_immonet, titles_houses)"
   ]
  },
  {
   "cell_type": "code",
   "execution_count": 14,
   "id": "f6e4051a-e279-46bb-8f79-d51bfbc28fce",
   "metadata": {},
   "outputs": [
    {
     "data": {
      "application/vnd.jupyter.widget-view+json": {
       "model_id": "8b5be357fed5434d90bfc312da6187ce",
       "version_major": 2,
       "version_minor": 0
      },
      "text/plain": [
       "  0%|          | 0/5 [00:00<?, ?it/s]"
      ]
     },
     "metadata": {},
     "output_type": "display_data"
    },
    {
     "name": "stdout",
     "output_type": "stream",
     "text": [
      "Identified outliers for Interior Size: 244\n",
      "Identified outliers for Price: 284\n",
      "Identified outliers for Floor Count: 1706\n",
      "Identified outliers for Room Count: 13\n",
      "Identified outliers for Exterior Size: 579\n"
     ]
    }
   ],
   "source": [
    "houses_kleineinzeigen_no_outliers = outlier_removal(houses_kleineinzeigen, titles_houses)"
   ]
  },
  {
   "cell_type": "code",
   "execution_count": 271,
   "id": "99ebe7e1",
   "metadata": {
    "ExecuteTime": {
     "end_time": "2021-07-06T06:22:36.956794Z",
     "start_time": "2021-07-06T06:22:36.804530Z"
    },
    "hidden": true
   },
   "outputs": [
    {
     "data": {
      "image/png": "[encoded data removed]",
      "text/plain": [
       "<Figure size 400x300 with 1 Axes>"
      ]
     },
     "metadata": {},
     "output_type": "display_data"
    }
   ],
   "source": [
    "plt.figure(figsize=(4, 3))  # Adjust the figure size if needed\n",
    "apartments_immonet_no_outliers.boxplot(column=['Price'])\n",
    "plt.title('Boxplot')\n",
    "plt.ylabel('Price')\n",
    "plt.show()"
   ]
  },
  {
   "cell_type": "markdown",
   "id": "2d74a54c",
   "metadata": {
    "heading_collapsed": true,
    "hidden": true,
    "jp-MarkdownHeadingCollapsed": true
   },
   "source": [
    "## Impute Median "
   ]
  },
  {
   "cell_type": "code",
   "execution_count": 15,
   "id": "68d5f128",
   "metadata": {
    "ExecuteTime": {
     "end_time": "2021-07-06T06:19:40.190569Z",
     "start_time": "2021-07-06T06:19:40.061343Z"
    },
    "hidden": true
   },
   "outputs": [],
   "source": [
    "apartments_immonet_no_outliers.drop(columns=['Link', 'Transportation Availability Rating', 'Basic Neccessities Rating'], axis=1, inplace=True)\n",
    "apartments_kleineinzeigen_no_outliers.drop(columns=['Link'], axis=1, inplace=True)\n",
    "houses_immonet_no_outliers.drop(columns=['Link', 'Transportation Availability Rating', 'Basic Neccessities Rating', 'House Type'], axis=1, inplace=True)\n",
    "houses_kleineinzeigen_no_outliers.drop(columns=['Link','House Type'], axis=1, inplace=True)"
   ]
  },
  {
   "cell_type": "code",
   "execution_count": 16,
   "id": "78edecfc-1e2e-49dd-9740-ab3baffc3b01",
   "metadata": {},
   "outputs": [],
   "source": [
    "apartments_immonet_no_outliers[apartments_immonet_no_outliers.columns[apartments_immonet_no_outliers.isna().any()]] = apartments_immonet_no_outliers[apartments_immonet_no_outliers.columns[apartments_immonet_no_outliers.isna().any()]].fillna(apartments_immonet_no_outliers.median())\n",
    "\n",
    "apartments_kleineinzeigen_no_outliers[apartments_kleineinzeigen_no_outliers.columns[apartments_kleineinzeigen_no_outliers.isna().any()]] = apartments_kleineinzeigen_no_outliers[apartments_kleineinzeigen_no_outliers.columns[apartments_kleineinzeigen_no_outliers.isna().any()]].fillna(apartments_kleineinzeigen_no_outliers.median())\n",
    "\n",
    "houses_immonet_no_outliers[houses_immonet_no_outliers.columns[houses_immonet_no_outliers.isna().any()]] = houses_immonet_no_outliers[houses_immonet_no_outliers.columns[houses_immonet_no_outliers.isna().any()]].fillna(houses_immonet_no_outliers.median())\n",
    "\n",
    "houses_kleineinzeigen_no_outliers[houses_kleineinzeigen_no_outliers.columns[houses_kleineinzeigen_no_outliers.isna().any()]] = houses_kleineinzeigen_no_outliers[houses_kleineinzeigen_no_outliers.columns[houses_kleineinzeigen_no_outliers.isna().any()]].fillna(houses_kleineinzeigen_no_outliers.median())"
   ]
  },
  {
   "cell_type": "code",
   "execution_count": 19,
   "id": "9444f7fa-658b-4b3b-982a-3e0a93794f6f",
   "metadata": {},
   "outputs": [],
   "source": [
    "apartments_kleineinzeigen_no_outliers.to_excel('apartments_kleineinzeigen_no_outliers.xlsx', index=False)\n",
    "houses_kleineinzeigen_no_outliers.to_excel('houses_kleineinzeigen_no_outliers.xlsx', index=False)"
   ]
  },
  {
   "cell_type": "markdown",
   "id": "dc827bfa-3b6d-4eaf-8dc4-2b86c429de5e",
   "metadata": {
    "jp-MarkdownHeadingCollapsed": true
   },
   "source": [
    "## Concatenate Datasets"
   ]
  },
  {
   "cell_type": "code",
   "execution_count": 281,
   "id": "2d8f1261-2e28-4854-a786-8f4a1ca6cd79",
   "metadata": {},
   "outputs": [],
   "source": [
    "apartments_no_outliers_concatenated = pd.concat([apartments_immonet_no_outliers, apartments_kleineinzeigen_no_outliers], ignore_index=True)\n",
    "houses_no_outliers_concatenated = pd.concat([houses_immonet_no_outliers, houses_kleineinzeigen_no_outliers], ignore_index=True)"
   ]
  },
  {
   "cell_type": "markdown",
   "id": "ce774a7c-7b97-4247-a931-839deee5e200",
   "metadata": {
    "jp-MarkdownHeadingCollapsed": true
   },
   "source": [
    "## Store"
   ]
  },
  {
   "cell_type": "code",
   "execution_count": 288,
   "id": "414bb55f",
   "metadata": {
    "ExecuteTime": {
     "end_time": "2021-06-17T14:49:44.115987Z",
     "start_time": "2021-06-17T14:49:33.002391Z"
    },
    "hidden": true
   },
   "outputs": [],
   "source": [
    "apartments_no_outliers_concatenated.to_excel('apartments_no_outliers_concatenated.xlsx', index=False)\n",
    "houses_no_outliers_concatenated.to_excel('houses_no_outliers_concatenated.xlsx', index=False)"
   ]
  }
 ],
 "metadata": {
  "kernelspec": {
   "display_name": "Python 3 (ipykernel)",
   "language": "python",
   "name": "python3"
  },
  "language_info": {
   "codemirror_mode": {
    "name": "ipython",
    "version": 3
   },
   "file_extension": ".py",
   "mimetype": "text/x-python",
   "name": "python",
   "nbconvert_exporter": "python",
   "pygments_lexer": "ipython3",
   "version": "3.9.7"
  },
  "toc": {
   "base_numbering": 1,
   "nav_menu": {},
   "number_sections": true,
   "sideBar": true,
   "skip_h1_title": false,
   "title_cell": "Table of Contents",
   "title_sidebar": "Contents",
   "toc_cell": false,
   "toc_position": {},
   "toc_section_display": true,
   "toc_window_display": false
  }
 },
 "nbformat": 4,
 "nbformat_minor": 5
}
