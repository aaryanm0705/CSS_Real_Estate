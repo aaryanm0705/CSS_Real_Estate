{
 "cells": [
  {
   "cell_type": "markdown",
   "metadata": {},
   "source": [
    "# Packages"
   ]
  },
  {
   "cell_type": "code",
   "execution_count": 171,
   "metadata": {},
   "outputs": [],
   "source": [
    "from geopy.geocoders import Nominatim\n",
    "import geopy\n",
    "geolocator = Nominatim(user_agent=\"geoapiExercises\")\n",
    "import undetected_chromedriver as uc\n",
    "from bs4 import BeautifulSoup\n",
    "import requests\n",
    "import numpy as np\n",
    "import random\n",
    "import math\n",
    "import time as t\n",
    "import pandas as pd\n",
    "import re\n",
    "from deep_translator import GoogleTranslator\n",
    "from tqdm.notebook import tqdm\n",
    "from fake_useragent import UserAgent\n",
    "from datetime import datetime\n",
    "from selenium import webdriver\n",
    "from selenium.webdriver.support.ui import WebDriverWait\n",
    "from selenium.webdriver.common.action_chains import ActionChains\n",
    "from selenium.webdriver.common.by import By\n",
    "from selenium.webdriver.support import expected_conditions as EC\n",
    "from selenium.webdriver.chrome.options import Options \n",
    "from selenium.webdriver.common.keys import Keys"
   ]
  },
  {
   "cell_type": "markdown",
   "metadata": {},
   "source": [
    "# Function"
   ]
  },
  {
   "cell_type": "code",
   "execution_count": 2,
   "metadata": {},
   "outputs": [],
   "source": [
    "def flatten(A):\n",
    "    rt = []\n",
    "    for i in A:\n",
    "        if isinstance(i,list): rt.extend(flatten(i))\n",
    "        else: rt.append(i)\n",
    "    return rt"
   ]
  },
  {
   "cell_type": "code",
   "execution_count": 94,
   "metadata": {},
   "outputs": [],
   "source": [
    "def sqftosqmt(num):\n",
    "    return num/10.764"
   ]
  },
  {
   "cell_type": "code",
   "execution_count": 4,
   "metadata": {},
   "outputs": [],
   "source": [
    "def has_number(input_string):\n",
    "    pattern = r\"\\d+\"\n",
    "    match = re.search(pattern, input_string)\n",
    "    if match:\n",
    "        return True\n",
    "    else:\n",
    "        return False"
   ]
  },
  {
   "cell_type": "code",
   "execution_count": 5,
   "metadata": {},
   "outputs": [],
   "source": [
    "def extract_number(input_string):\n",
    "    pattern = r\"(\\d+)\"\n",
    "    match = re.search(pattern, input_string)\n",
    "    if match:\n",
    "        extracted_number = int(match.group(1))  # Convert the matched number to an integer\n",
    "        return extracted_number\n",
    "    else:\n",
    "        return None "
   ]
  },
  {
   "cell_type": "code",
   "execution_count": 6,
   "metadata": {},
   "outputs": [],
   "source": [
    "def addressToCoord(address):\n",
    "    loc = Nominatim(user_agent=\"Geopy Library\")\n",
    "    getLoc = loc.geocode(address)\n",
    "    return(getLoc.latitude, getLoc.longitude)"
   ]
  },
  {
   "cell_type": "code",
   "execution_count": 7,
   "metadata": {},
   "outputs": [],
   "source": [
    "def is_string_in_another_string_once(main_string, sub_string):\n",
    "    index = main_string.find(sub_string)\n",
    "    if index != -1:\n",
    "        second_index = main_string.find(sub_string, index + 1)\n",
    "        if second_index == -1:\n",
    "            return True\n",
    "    return False"
   ]
  },
  {
   "cell_type": "code",
   "execution_count": 8,
   "metadata": {},
   "outputs": [],
   "source": [
    "def uniquize(seq):\n",
    "    seen = set()\n",
    "    seen_add = seen.add\n",
    "    return [x for x in seq if not (x in seen or seen_add(x))]"
   ]
  },
  {
   "cell_type": "code",
   "execution_count": 9,
   "metadata": {},
   "outputs": [],
   "source": [
    "def contains_only_numbers(input_string):\n",
    "    pattern = r\"^\\d+$\"\n",
    "    return bool(re.match(pattern, input_string))"
   ]
  },
  {
   "cell_type": "code",
   "execution_count": 10,
   "metadata": {},
   "outputs": [],
   "source": [
    "ua = UserAgent()"
   ]
  },
  {
   "cell_type": "markdown",
   "metadata": {},
   "source": [
    "# Scrape"
   ]
  },
  {
   "cell_type": "code",
   "execution_count": 11,
   "metadata": {},
   "outputs": [],
   "source": [
    "mother_url = 'https://www.engelvoelkers.com/de'\n",
    "apartments = 'https://www.engelvoelkers.com/de/search/?q=&startIndex=0&businessArea=&sortOrder=DESC&sortField=newestProfileCreationTimestamp&pageSize=18&facets=cntry%3Agermany%3Bobjcttyp%3Acondo%3Btyp%3Arent%3B'\n",
    "houses = 'https://www.engelvoelkers.com/de/search/?q=&startIndex=0&businessArea=&sortOrder=DESC&sortField=newestProfileCreationTimestamp&pageSize=18&facets=cntry%3Agermany%3Bobjcttyp%3Ahouse%3Btyp%3Arent%3B'"
   ]
  },
  {
   "cell_type": "code",
   "execution_count": 72,
   "metadata": {},
   "outputs": [],
   "source": [
    "apartments = 'https://www.engelvoelkers.com/de/search/?q=&startIndex=0&businessArea=&sortOrder=DESC&sortField=newestProfileCreationTimestamp&pageSize=18&facets=cntry%3Agermany%3Bobjcttyp%3Acondo%3Btyp%3Arent%3B'\n",
    "houses = 'https://www.engelvoelkers.com/de/search/?q=&startIndex=0&businessArea=&sortOrder=DESC&sortField=newestProfileCreationTimestamp&pageSize=18&facets=cntry%3Agermany%3Bobjcttyp%3Ahouse%3Btyp%3Arent%3B'"
   ]
  },
  {
   "cell_type": "markdown",
   "metadata": {},
   "source": [
    "## Pagination Generation"
   ]
  },
  {
   "cell_type": "code",
   "execution_count": 73,
   "metadata": {},
   "outputs": [],
   "source": [
    "header = {'User-Agent':str(ua.random)}\n",
    "content = requests.get(apartments, headers = header)\n",
    "soup = BeautifulSoup(content.content, 'html.parser')\n",
    "\n",
    "pages_container = soup.find('ul', {'class':'ev-pager-row'})\n",
    "pages_container_narrow = pages_container.find_all('li', {'class':'ev-pager-item'})[-2]\n",
    "last_page = int(pages_container_narrow.text.strip())\n",
    "pages_apartments = [apartments.replace('startIndex=0', 'startIndex={}'.format(str(i*18))) for i in range(0, last_page)]"
   ]
  },
  {
   "cell_type": "code",
   "execution_count": 74,
   "metadata": {},
   "outputs": [],
   "source": [
    "header = {'User-Agent':str(ua.random)}\n",
    "content = requests.get(houses, headers = header)\n",
    "soup = BeautifulSoup(content.content, 'html.parser')\n",
    "\n",
    "pages_container = soup.find('ul', {'class':'ev-pager-row'})\n",
    "pages_container_narrow = pages_container.find_all('li', {'class':'ev-pager-item'})[-2]\n",
    "last_page = int(pages_container_narrow.text.strip())\n",
    "pages_houses = [houses.replace('startIndex=0', 'startIndex={}'.format(str(i*18))) for i in range(0, last_page)]"
   ]
  },
  {
   "cell_type": "markdown",
   "metadata": {},
   "source": [
    "## Product Links"
   ]
  },
  {
   "cell_type": "code",
   "execution_count": 84,
   "metadata": {},
   "outputs": [
    {
     "data": {
      "application/vnd.jupyter.widget-view+json": {
       "model_id": "c80916abf10f4b6ab5a01ee8ef52f45d",
       "version_major": 2,
       "version_minor": 0
      },
      "text/plain": [
       "HBox(children=(FloatProgress(value=0.0, max=34.0), HTML(value='')))"
      ]
     },
     "metadata": {},
     "output_type": "display_data"
    },
    {
     "name": "stdout",
     "output_type": "stream",
     "text": [
      "\n"
     ]
    }
   ],
   "source": [
    "all_products_apartments = []\n",
    "\n",
    "for page in tqdm(pages_apartments):\n",
    "    header = {'User-Agent':str(ua.random)}\n",
    "    content = requests.get(page, headers = header)\n",
    "    soup = BeautifulSoup(content.content, 'html.parser')\n",
    "\n",
    "    product_container = soup.find('div', {'class':'row ev-search-results'})\n",
    "    if product_container:\n",
    "        product_container_narrow = product_container.find_all('div', {'class':'col-lg-4 col-md-4 col-sm-6 col-xs-12'})\n",
    "\n",
    "        products = []\n",
    "        for i in product_container_narrow:\n",
    "            try:\n",
    "                if 'exposes' in i.find('a', {'href':True})['href']:\n",
    "                    products.append(i.find('a', {'href':True})['href'])\n",
    "                else:\n",
    "                    continue\n",
    "            except:\n",
    "                continue\n",
    "\n",
    "        all_products_apartments.append(products)\n",
    "    else:\n",
    "        continue\n",
    "        \n",
    "all_products_apartments = uniquize(flatten(all_products_apartments))"
   ]
  },
  {
   "cell_type": "code",
   "execution_count": 90,
   "metadata": {},
   "outputs": [
    {
     "data": {
      "application/vnd.jupyter.widget-view+json": {
       "model_id": "28936dcbbdf14ed6a65700e505d344bc",
       "version_major": 2,
       "version_minor": 0
      },
      "text/plain": [
       "HBox(children=(FloatProgress(value=0.0, max=8.0), HTML(value='')))"
      ]
     },
     "metadata": {},
     "output_type": "display_data"
    },
    {
     "name": "stdout",
     "output_type": "stream",
     "text": [
      "\n"
     ]
    }
   ],
   "source": [
    "all_products_houses = []\n",
    "\n",
    "for page in tqdm(pages_houses):\n",
    "    header = {'User-Agent':str(ua.random)}\n",
    "    content = requests.get(page, headers = header)\n",
    "    soup = BeautifulSoup(content.content, 'html.parser')\n",
    "\n",
    "    product_container = soup.find('div', {'class':'row ev-search-results'})\n",
    "    \n",
    "    if product_container:\n",
    "        product_container_narrow = product_container.find_all('div', {'class':'col-lg-4 col-md-4 col-sm-6 col-xs-12'})\n",
    "\n",
    "        products = []\n",
    "        for i in product_container_narrow:\n",
    "            try:\n",
    "                if 'exposes' in i.find('a', {'href':True})['href']:\n",
    "                    products.append(i.find('a', {'href':True})['href'])\n",
    "                else:\n",
    "                    continue\n",
    "            except:\n",
    "                continue\n",
    "\n",
    "        all_products_houses.append(products)\n",
    "    else:\n",
    "        continue\n",
    "    \n",
    "all_products_houses = uniquize(flatten(all_products_houses))"
   ]
  },
  {
   "cell_type": "markdown",
   "metadata": {},
   "source": [
    "## Data Collection"
   ]
  },
  {
   "cell_type": "markdown",
   "metadata": {},
   "source": [
    "### Apartments"
   ]
  },
  {
   "cell_type": "code",
   "execution_count": 209,
   "metadata": {},
   "outputs": [
    {
     "data": {
      "application/vnd.jupyter.widget-view+json": {
       "model_id": "bebf9a4ac30b4060978a0822ee3cf653",
       "version_major": 2,
       "version_minor": 0
      },
      "text/plain": [
       "HBox(children=(FloatProgress(value=0.0, max=596.0), HTML(value='')))"
      ]
     },
     "metadata": {},
     "output_type": "display_data"
    },
    {
     "name": "stdout",
     "output_type": "stream",
     "text": [
      "\n"
     ]
    }
   ],
   "source": [
    "all_sizes = []\n",
    "all_links1 = []\n",
    "all_rooms1 = []\n",
    "all_final_costs1 = []\n",
    "all_zip_codes1 = []\n",
    "all_latitudes1 = []\n",
    "all_longitudes1 = []\n",
    "all_balconies = []\n",
    "all_storages = []\n",
    "all_elevators = []\n",
    "all_years1 = []\n",
    "\n",
    "\n",
    "for link in tqdm(all_products_apartments):\n",
    "    header = {'User-Agent':str(ua.random)}\n",
    "    content = requests.get(link, headers = header)\n",
    "    soup = BeautifulSoup(content.content, 'html.parser')\n",
    "    \n",
    "    test_price = soup.find('div', {'class':'ev-exposee-content ev-key-facts'})\n",
    "    if test_price:\n",
    "        price_container = test_price.find('span', {'itemprop':'price'})\n",
    "        price = price_container.text.strip().replace('€', '').replace('.', '').replace(',', '.')\n",
    "        if has_number(price):\n",
    "            price = float(price.replace('€', '').replace('.', '').replace(',', '.').replace('  VB', ''))\n",
    "        else:\n",
    "            price = None\n",
    "    else:\n",
    "        price = None\n",
    "\n",
    "    test_address = soup.find('div', {'class':'ev-exposee-content ev-exposee-subtitle'})\n",
    "    if test_address:\n",
    "        address = test_address.text.split('|')[-1].strip(' ')\n",
    "\n",
    "        latitude = None\n",
    "        longitude = None\n",
    "        zip_code = None\n",
    "        try:\n",
    "            latitude = addressToCoord(address)[0]\n",
    "            longitude = addressToCoord(address)[1]\n",
    "        except:\n",
    "            latitude = None\n",
    "            longitude = None\n",
    "\n",
    "        if latitude: \n",
    "            try:\n",
    "                geo_locator = geopy.Nominatim(user_agent='1234')\n",
    "                r = geo_locator.reverse(addressToCoord(address))\n",
    "                zip_code = r.raw['address']['postcode']\n",
    "            except:\n",
    "                zip_code = None\n",
    "        else:\n",
    "            zip_code = None\n",
    "\n",
    "    test_additionals = soup.find_all('li', {'class':'ev-exposee-detail-fact'})\n",
    "    if test_additionals:\n",
    "        additionals_raw = [i.text.strip(' ').lower() for i in test_additionals]\n",
    "\n",
    "        interior_size = None\n",
    "        rooms = None\n",
    "        year = None\n",
    "        balcony = 0\n",
    "        storage = 0\n",
    "        parking = 0\n",
    "        elevator = 0\n",
    "        for component in additionals_raw:\n",
    "            if 'wohnfläche' in component and 'gesamt' not in component:\n",
    "                interior_size = float(component.replace('wohnfläche ', '').replace('ca. ', '').replace(' m²', '').replace('.', '').replace(',', '.'))\n",
    "            elif 'zimmer' in component and 'bade' not in component and 'schlaf' not in component and 'ess' not in component and 'privat' not in component:\n",
    "                rooms = float(component.replace('zimmer ', '').replace('.', '').replace(',', '.'))\n",
    "            elif 'baujahr' in component:\n",
    "                year = int(component.replace('baujahr ', ''))\n",
    "            elif 'balkon' in component or 'terrasse':\n",
    "                balcony = 1\n",
    "            elif 'keller' in component:\n",
    "                storage = 1\n",
    "            elif 'stellplatz' in component or 'garage' in component or 'stellplätze' in component:\n",
    "                parking = 1\n",
    "            elif 'aufzug' in component:\n",
    "                elevator = 1\n",
    "            else:\n",
    "                continue\n",
    "    else:\n",
    "        interior_size = None\n",
    "        rooms = None\n",
    "        year = None\n",
    "        balcony = 0\n",
    "        storage = 0\n",
    "        parking = 0\n",
    "        elevator = 0    \n",
    "                \n",
    "    all_sizes.append(interior_size)\n",
    "    all_rooms1.append(rooms)\n",
    "    all_final_costs1.append(price)\n",
    "    all_zip_codes1.append(zip_code)\n",
    "    all_latitudes1.append(latitude)\n",
    "    all_longitudes1.append(longitude)\n",
    "    all_balconies.append(balcony)\n",
    "    all_storages.append(storage)\n",
    "    all_elevators.append(elevator)\n",
    "    all_links1.append(link)\n",
    "    all_years1.append(year)\n",
    "    \n",
    "all_sizes = flatten(all_sizes)\n",
    "all_rooms1 = flatten(all_rooms1)\n",
    "all_final_costs1 = flatten(all_final_costs1)\n",
    "all_zip_codes1 = flatten(all_zip_codes1)\n",
    "all_latitudes1 = flatten(all_latitudes1)\n",
    "all_longitudes1 = flatten(all_longitudes1)\n",
    "all_balconies = flatten(all_balconies)\n",
    "all_storages = flatten(all_storages)\n",
    "all_elevators = flatten(all_elevators)\n",
    "all_links1 = flatten(all_links1)\n",
    "all_years1 = flatten(all_years1)"
   ]
  },
  {
   "cell_type": "markdown",
   "metadata": {},
   "source": [
    "### Houses"
   ]
  },
  {
   "cell_type": "code",
   "execution_count": 161,
   "metadata": {},
   "outputs": [
    {
     "data": {
      "application/vnd.jupyter.widget-view+json": {
       "model_id": "94be9099adcb4a139cc4e05c85c03269",
       "version_major": 2,
       "version_minor": 0
      },
      "text/plain": [
       "HBox(children=(FloatProgress(value=0.0, max=123.0), HTML(value='')))"
      ]
     },
     "metadata": {},
     "output_type": "display_data"
    },
    {
     "name": "stdout",
     "output_type": "stream",
     "text": [
      "\n"
     ]
    }
   ],
   "source": [
    "all_interior_sizes = []\n",
    "all_exterior_sizes = []\n",
    "all_house_types = []\n",
    "all_links2 = []\n",
    "all_rooms2 = []\n",
    "all_final_costs2 = []\n",
    "all_zip_codes2 = []\n",
    "all_latitudes2 = []\n",
    "all_longitudes2 = []\n",
    "all_terraces = []\n",
    "all_parkings = []\n",
    "all_years2 = []\n",
    "\n",
    "for link in tqdm(all_products_houses):\n",
    "    header = {'User-Agent':str(ua.random)}\n",
    "    content = requests.get(link, headers = header)\n",
    "    soup = BeautifulSoup(content.content, 'html.parser')\n",
    "    \n",
    "    test_price = soup.find('div', {'class':'ev-exposee-content ev-key-facts'})\n",
    "    if test_price:\n",
    "        price_container = test_price.find('span', {'itemprop':'price'})\n",
    "        price = price_container.text.strip().replace('€', '').replace('.', '').replace(',', '.')\n",
    "        if has_number(price):\n",
    "            price = float(price.replace('€', '').replace('.', '').replace(',', '.').replace('  VB', ''))\n",
    "        else:\n",
    "            price = None\n",
    "    else:\n",
    "        price = None\n",
    "\n",
    "    test_address = soup.find('div', {'class':'ev-exposee-content ev-exposee-subtitle'})\n",
    "    if test_address:\n",
    "        address = test_address.text.split('|')[-1].strip(' ')\n",
    "\n",
    "        latitude = None\n",
    "        longitude = None\n",
    "        zip_code = None\n",
    "        try:\n",
    "            latitude = addressToCoord(address)[0]\n",
    "            longitude = addressToCoord(address)[1]\n",
    "        except:\n",
    "            latitude = None\n",
    "            longitude = None\n",
    "\n",
    "        if latitude: \n",
    "            try:\n",
    "                geo_locator = geopy.Nominatim(user_agent='1234')\n",
    "                r = geo_locator.reverse(addressToCoord(address))\n",
    "                zip_code = r.raw['address']['postcode']\n",
    "            except:\n",
    "                zip_code = None\n",
    "        else:\n",
    "            zip_code = None\n",
    "\n",
    "    test_additionals = soup.find_all('li', {'class':'ev-exposee-detail-fact'})\n",
    "    if test_additionals:\n",
    "        additionals_raw = [i.text.strip(' ').lower() for i in test_additionals]\n",
    "\n",
    "        interior_size = None\n",
    "        exterior_size = None\n",
    "        rooms = None\n",
    "        year = None\n",
    "        house_type = None\n",
    "        terrace = 0\n",
    "        parking = 0\n",
    "        for component in additionals_raw:\n",
    "            if 'wohnfläche' in component and 'gesamt' not in component:\n",
    "                interior_size = float(component.replace('wohnfläche ', '').replace('ca. ', '').replace(' m²', '').replace('.', '').replace(',', '.'))\n",
    "            elif 'grundstück' in component:\n",
    "                if 'ha' in component.replace('grundstück ', '').replace('ca. ', '').replace(' m²', '').replace('.', '').replace(',', '.'):\n",
    "                    exterior_size = 10000 * float(component.replace('grundstück ', '').replace('ca. ', '').replace(' m²', '').replace('.', '').replace(',', '.').replace(' ha', ''))\n",
    "                else:\n",
    "                    exterior_size = float(component.replace('grundstück ', '').replace('ca. ', '').replace(' m²', '').replace('.', '').replace(',', '.'))    \n",
    "            elif 'zimmer' in component and 'bade' not in component and 'schlaf' not in component and 'ess' not in component and 'privat' not in component:\n",
    "                rooms = float(component.replace('zimmer ', '').replace('.', '').replace(',', '.'))\n",
    "            elif 'baujahr' in component:\n",
    "                year = int(component.replace('baujahr ', ''))\n",
    "            elif 'balkon' in component or 'terrasse' in component:\n",
    "                terrace = 1\n",
    "            elif 'stellplatz' in component or 'garage' in component or 'stellplätze' in component:\n",
    "                parking = 1\n",
    "            elif 'aufzug' in component:\n",
    "                elevator = 1\n",
    "            elif 'objektunterart' in component:\n",
    "                house_type = GoogleTranslator(source='de', target='en').translate(component.replace('objektunterart ', '')).lower()\n",
    "            else:\n",
    "                continue\n",
    "    else:\n",
    "        interior_size = None\n",
    "        exterior_size = None\n",
    "        rooms = None\n",
    "        year = None\n",
    "        house_type = None\n",
    "        terrace = 0\n",
    "        parking = 0\n",
    "                \n",
    "    all_interior_sizes.append(interior_size)\n",
    "    all_exterior_sizes.append(exterior_size)\n",
    "    all_rooms2.append(rooms)\n",
    "    all_final_costs2.append(price)\n",
    "    all_zip_codes2.append(zip_code)\n",
    "    all_latitudes2.append(latitude)\n",
    "    all_longitudes2.append(longitude)\n",
    "    all_terraces.append(terrace)\n",
    "    all_links2.append(link)\n",
    "    all_years2.append(year)\n",
    "    all_house_types.append(house_type)\n",
    "    all_parkings.append(parking)\n",
    "\n",
    "    \n",
    "all_interior_sizes = flatten(all_interior_sizes)\n",
    "all_exterior_sizes = flatten(all_exterior_sizes)\n",
    "all_rooms2 = flatten(all_rooms2)\n",
    "all_final_costs2 = flatten(all_final_costs2)\n",
    "all_zip_codes2 = flatten(all_zip_codes2)\n",
    "all_latitudes2 = flatten(all_latitudes2)\n",
    "all_longitudes2 = flatten(all_longitudes2)\n",
    "all_terraces = flatten(all_terraces)\n",
    "all_links2 = flatten(all_links2)\n",
    "all_years2 = flatten(all_years2)\n",
    "all_house_types = flatten(all_house_types)\n",
    "all_parkings = flatten(all_parkings)\n"
   ]
  },
  {
   "cell_type": "markdown",
   "metadata": {},
   "source": [
    "# Storage"
   ]
  },
  {
   "cell_type": "code",
   "execution_count": 211,
   "metadata": {},
   "outputs": [],
   "source": [
    "data_apartments = pd.DataFrame()\n",
    "data_houses = pd.DataFrame()\n",
    "\n",
    "data_apartments['Link'] = all_links1\n",
    "data_apartments['Year Constructed'] = all_years1\n",
    "data_apartments['Interior Size'] = all_sizes\n",
    "data_apartments['Room Count'] = all_rooms1\n",
    "data_apartments['Zip Code'] = all_zip_codes1\n",
    "data_apartments['Latitude'] = all_latitudes1\n",
    "data_apartments['Longitude'] = all_longitudes1\n",
    "data_apartments['Balcony'] = all_balconies\n",
    "data_apartments['Storage'] = all_storages\n",
    "data_apartments['Elevator'] = all_elevators\n",
    "data_apartments['Price'] = all_final_costs1\n",
    "data_apartments['Zip Code'] = data_apartments['Zip Code'].fillna(0).astype(int).replace(0, None)\n",
    "data_apartments['Year Constructed'] = data_apartments['Year Constructed'].fillna(0).astype(int).replace(0, None)\n",
    "\n",
    "data_houses['Link'] = all_links2\n",
    "data_houses['House Type'] = all_house_types\n",
    "data_houses['Year Constructed'] = all_years2\n",
    "data_houses['Interior Size'] = all_interior_sizes\n",
    "data_houses['Exterior Size'] = all_exterior_sizes\n",
    "data_houses['Room Count'] = all_rooms2\n",
    "data_houses['Zip Code'] = all_zip_codes2\n",
    "data_houses['Latitude'] = all_latitudes2\n",
    "data_houses['Longitude'] = all_longitudes2\n",
    "data_houses['Parking'] = all_parkings\n",
    "data_houses['Terrace'] = all_terraces\n",
    "data_houses['Price'] = all_final_costs2\n",
    "data_houses['Zip Code'] = data_houses['Zip Code'].fillna(0).astype(int).replace(0, np.nan).replace(np.nan, None)\n",
    "data_houses['Year Constructed'] = data_houses['Year Constructed'].replace(np.nan, 0).astype(int).replace(0, None)"
   ]
  },
  {
   "cell_type": "code",
   "execution_count": 212,
   "metadata": {},
   "outputs": [],
   "source": [
    "def format_value(value):\n",
    "    if value >= 1000 and value <= 9999:\n",
    "        return f'0{value:04}'\n",
    "    return str(value)\n",
    "\n",
    "data_apartments['Zip Code'] = data_apartments['Zip Code'].apply(format_value)\n",
    "data_houses['Zip Code'] = data_houses['Zip Code'].apply(format_value)"
   ]
  },
  {
   "cell_type": "code",
   "execution_count": 213,
   "metadata": {},
   "outputs": [],
   "source": [
    "data_apartments.to_excel('engelVolkerApartments.xlsx', index=False, engine='openpyxl')\n",
    "data_houses.to_excel('engelVolkerHouses.xlsx', index=False, engine='openpyxl')"
   ]
  },
  {
   "cell_type": "code",
   "execution_count": 67,
   "metadata": {},
   "outputs": [],
   "source": [
    "data_apartments = pd.read_excel('engelVolkerApartments.xlsx', engine='openpyxl', dtype={'Zip Code': str})\n",
    "data_houses = pd.read_excel('engelVolkerHouses.xlsx', engine='openpyxl', dtype={'Zip Code': str})"
   ]
  }
 ],
 "metadata": {
  "kernelspec": {
   "display_name": "Python 3",
   "language": "python",
   "name": "python3"
  },
  "language_info": {
   "codemirror_mode": {
    "name": "ipython",
    "version": 3
   },
   "file_extension": ".py",
   "mimetype": "text/x-python",
   "name": "python",
   "nbconvert_exporter": "python",
   "pygments_lexer": "ipython3",
   "version": "3.7.6"
  }
 },
 "nbformat": 4,
 "nbformat_minor": 4
}
